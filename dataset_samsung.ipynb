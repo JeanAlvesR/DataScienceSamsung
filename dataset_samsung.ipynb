{
  "nbformat": 4,
  "nbformat_minor": 0,
  "metadata": {
    "colab": {
      "provenance": [],
      "collapsed_sections": [
        "HdFWE_qbt6vZ",
        "c7SLj98kwP7l",
        "5tLU4ebJzWMk",
        "yPyM7Qzx89Pf",
        "EEOOXzIi87Ru",
        "47Rkh4WZCxZt",
        "FEOWNDhHGx8g",
        "5JVIYDYstcFn",
        "oCsQiimKPTkn",
        "pNivHrOBYDjI",
        "bJ7lJ9ZPmw6l",
        "rl1zt2p_q3qK",
        "ESavxo_d0Xaw",
        "3E5ocNqs0y4w",
        "6NCZRBHI42MG",
        "_Jh47N-m71xk",
        "91yL59b89Nry"
      ],
      "toc_visible": true,
      "authorship_tag": "ABX9TyOPLGosN4dFDKmoBgBNExN4",
      "include_colab_link": true
    },
    "kernelspec": {
      "name": "python3",
      "display_name": "Python 3"
    },
    "language_info": {
      "name": "python"
    }
  },
  "cells": [
    {
      "cell_type": "markdown",
      "metadata": {
        "id": "view-in-github",
        "colab_type": "text"
      },
      "source": [
        "<a href=\"https://colab.research.google.com/github/JeanAlvesR/DataScienceSamsung/blob/master/dataset_samsung.ipynb\" target=\"_parent\"><img src=\"https://colab.research.google.com/assets/colab-badge.svg\" alt=\"Open In Colab\"/></a>"
      ]
    },
    {
      "cell_type": "markdown",
      "source": [
        "## **1. Import necessary libraries**\n"
      ],
      "metadata": {
        "id": "HdFWE_qbt6vZ"
      }
    },
    {
      "cell_type": "code",
      "source": [
        "import numpy as np\n",
        "import pandas as pd\n",
        "import seaborn as sns\n",
        "import matplotlib.pyplot as plt\n",
        "from scipy.stats import shapiro\n",
        "from sklearn.model_selection import train_test_split,GridSearchCV\n",
        "from sklearn.preprocessing import StandardScaler, OrdinalEncoder\n",
        "from sklearn.pipeline import Pipeline\n",
        "from sklearn.compose import ColumnTransformer\n",
        "from sklearn.ensemble import RandomForestRegressor\n",
        "from sklearn.tree import DecisionTreeRegressor\n",
        "from xgboost import XGBRegressor\n",
        "from sklearn.linear_model import LinearRegression\n",
        "from sklearn.metrics import r2_score, mean_absolute_error, mean_squared_error\n",
        "from sklearn.preprocessing import OneHotEncoder\n",
        "from sklearn.tree import plot_tree\n",
        "import os\n",
        "import warnings\n",
        "import kagglehub\n",
        "import os\n",
        "import math"
      ],
      "metadata": {
        "id": "UgmZ6YdRt-N5"
      },
      "execution_count": 79,
      "outputs": []
    },
    {
      "cell_type": "markdown",
      "source": [
        "## **2. Import dataset**"
      ],
      "metadata": {
        "id": "c7SLj98kwP7l"
      }
    },
    {
      "cell_type": "markdown",
      "source": [],
      "metadata": {
        "id": "VTqfUGtkyYWl"
      }
    },
    {
      "cell_type": "markdown",
      "source": [
        "### 2.1 Download Base\n"
      ],
      "metadata": {
        "id": "B6O6yUh9xKGa"
      }
    },
    {
      "cell_type": "code",
      "source": [
        "\n",
        "\n",
        "path = kagglehub.dataset_download(\"datatechexplorer/samsung-mobile-sales-dataset\")\n",
        "\n",
        "print(\"Path to dataset files:\", path)"
      ],
      "metadata": {
        "colab": {
          "base_uri": "https://localhost:8080/"
        },
        "id": "MQuvpqu7wVX6",
        "outputId": "ac6bcc01-0c1c-405d-f4c6-dc5f23fac8d6"
      },
      "execution_count": 3,
      "outputs": [
        {
          "output_type": "stream",
          "name": "stdout",
          "text": [
            "Downloading from https://www.kaggle.com/api/v1/datasets/download/datatechexplorer/samsung-mobile-sales-dataset?dataset_version_number=1...\n"
          ]
        },
        {
          "output_type": "stream",
          "name": "stderr",
          "text": [
            "100%|██████████| 24.3k/24.3k [00:00<00:00, 28.8MB/s]"
          ]
        },
        {
          "output_type": "stream",
          "name": "stdout",
          "text": [
            "Extracting files...\n",
            "Path to dataset files: /root/.cache/kagglehub/datasets/datatechexplorer/samsung-mobile-sales-dataset/versions/1\n"
          ]
        },
        {
          "output_type": "stream",
          "name": "stderr",
          "text": [
            "\n"
          ]
        }
      ]
    },
    {
      "cell_type": "markdown",
      "source": [
        "### 2.2 Import do .csv com o PANDAS"
      ],
      "metadata": {
        "id": "gcxnb7DMxQeJ"
      }
    },
    {
      "cell_type": "code",
      "source": [
        "df = pd.read_csv(os.path.join(path, \"Expanded_Dataset.csv\"))"
      ],
      "metadata": {
        "id": "7uqU7iaKw82W"
      },
      "execution_count": 4,
      "outputs": []
    },
    {
      "cell_type": "markdown",
      "source": [
        "## **3. General View of Imported Data**"
      ],
      "metadata": {
        "id": "5tLU4ebJzWMk"
      }
    },
    {
      "cell_type": "markdown",
      "source": [],
      "metadata": {
        "id": "1eBu9TlFzCdu"
      }
    },
    {
      "cell_type": "markdown",
      "source": [
        "### 3.1 First 5 Records"
      ],
      "metadata": {
        "id": "yPyM7Qzx89Pf"
      }
    },
    {
      "cell_type": "code",
      "source": [
        "df.head()\n"
      ],
      "metadata": {
        "colab": {
          "base_uri": "https://localhost:8080/",
          "height": 0
        },
        "id": "UPDTEd_AziCS",
        "outputId": "e8396046-7e72-48e5-d0fa-894e41770389"
      },
      "execution_count": 5,
      "outputs": [
        {
          "output_type": "execute_result",
          "data": {
            "text/plain": [
              "   Year Quarter  Product Model 5G Capability  Units Sold   Revenue ($)  \\\n",
              "0  2019      Q1     Galaxy S10            No       26396  4.212951e+06   \n",
              "1  2019      Q1  Galaxy Note10            No       25671  7.240266e+06   \n",
              "2  2019      Q1     Galaxy S20            No       16573  2.560833e+07   \n",
              "3  2019      Q1  Galaxy Note20            No        7177  2.198442e+07   \n",
              "4  2019      Q1     Galaxy S21            No       45633  1.634244e+07   \n",
              "\n",
              "   Market Share (%)  Regional 5G Coverage (%)  5G Subscribers (millions)  \\\n",
              "0              1.04                     57.36                      39.55   \n",
              "1              2.82                     85.80                      42.58   \n",
              "2             -0.03                     47.02                       3.78   \n",
              "3              0.84                     25.70                      23.41   \n",
              "4              2.36                     89.13                      44.43   \n",
              "\n",
              "   Avg 5G Speed (Mbps)  Preference for 5G (%)                Region  \n",
              "0               293.10                  55.87          Asia-Pacific  \n",
              "1                67.46                  37.26         Latin America  \n",
              "2                77.25                  84.66  Middle East & Africa  \n",
              "3               105.27                  40.03         North America  \n",
              "4               206.17                  76.88         Latin America  "
            ],
            "text/html": [
              "\n",
              "  <div id=\"df-607a88d6-9581-49c9-8270-efe4278a4e5a\" class=\"colab-df-container\">\n",
              "    <div>\n",
              "<style scoped>\n",
              "    .dataframe tbody tr th:only-of-type {\n",
              "        vertical-align: middle;\n",
              "    }\n",
              "\n",
              "    .dataframe tbody tr th {\n",
              "        vertical-align: top;\n",
              "    }\n",
              "\n",
              "    .dataframe thead th {\n",
              "        text-align: right;\n",
              "    }\n",
              "</style>\n",
              "<table border=\"1\" class=\"dataframe\">\n",
              "  <thead>\n",
              "    <tr style=\"text-align: right;\">\n",
              "      <th></th>\n",
              "      <th>Year</th>\n",
              "      <th>Quarter</th>\n",
              "      <th>Product Model</th>\n",
              "      <th>5G Capability</th>\n",
              "      <th>Units Sold</th>\n",
              "      <th>Revenue ($)</th>\n",
              "      <th>Market Share (%)</th>\n",
              "      <th>Regional 5G Coverage (%)</th>\n",
              "      <th>5G Subscribers (millions)</th>\n",
              "      <th>Avg 5G Speed (Mbps)</th>\n",
              "      <th>Preference for 5G (%)</th>\n",
              "      <th>Region</th>\n",
              "    </tr>\n",
              "  </thead>\n",
              "  <tbody>\n",
              "    <tr>\n",
              "      <th>0</th>\n",
              "      <td>2019</td>\n",
              "      <td>Q1</td>\n",
              "      <td>Galaxy S10</td>\n",
              "      <td>No</td>\n",
              "      <td>26396</td>\n",
              "      <td>4.212951e+06</td>\n",
              "      <td>1.04</td>\n",
              "      <td>57.36</td>\n",
              "      <td>39.55</td>\n",
              "      <td>293.10</td>\n",
              "      <td>55.87</td>\n",
              "      <td>Asia-Pacific</td>\n",
              "    </tr>\n",
              "    <tr>\n",
              "      <th>1</th>\n",
              "      <td>2019</td>\n",
              "      <td>Q1</td>\n",
              "      <td>Galaxy Note10</td>\n",
              "      <td>No</td>\n",
              "      <td>25671</td>\n",
              "      <td>7.240266e+06</td>\n",
              "      <td>2.82</td>\n",
              "      <td>85.80</td>\n",
              "      <td>42.58</td>\n",
              "      <td>67.46</td>\n",
              "      <td>37.26</td>\n",
              "      <td>Latin America</td>\n",
              "    </tr>\n",
              "    <tr>\n",
              "      <th>2</th>\n",
              "      <td>2019</td>\n",
              "      <td>Q1</td>\n",
              "      <td>Galaxy S20</td>\n",
              "      <td>No</td>\n",
              "      <td>16573</td>\n",
              "      <td>2.560833e+07</td>\n",
              "      <td>-0.03</td>\n",
              "      <td>47.02</td>\n",
              "      <td>3.78</td>\n",
              "      <td>77.25</td>\n",
              "      <td>84.66</td>\n",
              "      <td>Middle East &amp; Africa</td>\n",
              "    </tr>\n",
              "    <tr>\n",
              "      <th>3</th>\n",
              "      <td>2019</td>\n",
              "      <td>Q1</td>\n",
              "      <td>Galaxy Note20</td>\n",
              "      <td>No</td>\n",
              "      <td>7177</td>\n",
              "      <td>2.198442e+07</td>\n",
              "      <td>0.84</td>\n",
              "      <td>25.70</td>\n",
              "      <td>23.41</td>\n",
              "      <td>105.27</td>\n",
              "      <td>40.03</td>\n",
              "      <td>North America</td>\n",
              "    </tr>\n",
              "    <tr>\n",
              "      <th>4</th>\n",
              "      <td>2019</td>\n",
              "      <td>Q1</td>\n",
              "      <td>Galaxy S21</td>\n",
              "      <td>No</td>\n",
              "      <td>45633</td>\n",
              "      <td>1.634244e+07</td>\n",
              "      <td>2.36</td>\n",
              "      <td>89.13</td>\n",
              "      <td>44.43</td>\n",
              "      <td>206.17</td>\n",
              "      <td>76.88</td>\n",
              "      <td>Latin America</td>\n",
              "    </tr>\n",
              "  </tbody>\n",
              "</table>\n",
              "</div>\n",
              "    <div class=\"colab-df-buttons\">\n",
              "\n",
              "  <div class=\"colab-df-container\">\n",
              "    <button class=\"colab-df-convert\" onclick=\"convertToInteractive('df-607a88d6-9581-49c9-8270-efe4278a4e5a')\"\n",
              "            title=\"Convert this dataframe to an interactive table.\"\n",
              "            style=\"display:none;\">\n",
              "\n",
              "  <svg xmlns=\"http://www.w3.org/2000/svg\" height=\"24px\" viewBox=\"0 -960 960 960\">\n",
              "    <path d=\"M120-120v-720h720v720H120Zm60-500h600v-160H180v160Zm220 220h160v-160H400v160Zm0 220h160v-160H400v160ZM180-400h160v-160H180v160Zm440 0h160v-160H620v160ZM180-180h160v-160H180v160Zm440 0h160v-160H620v160Z\"/>\n",
              "  </svg>\n",
              "    </button>\n",
              "\n",
              "  <style>\n",
              "    .colab-df-container {\n",
              "      display:flex;\n",
              "      gap: 12px;\n",
              "    }\n",
              "\n",
              "    .colab-df-convert {\n",
              "      background-color: #E8F0FE;\n",
              "      border: none;\n",
              "      border-radius: 50%;\n",
              "      cursor: pointer;\n",
              "      display: none;\n",
              "      fill: #1967D2;\n",
              "      height: 32px;\n",
              "      padding: 0 0 0 0;\n",
              "      width: 32px;\n",
              "    }\n",
              "\n",
              "    .colab-df-convert:hover {\n",
              "      background-color: #E2EBFA;\n",
              "      box-shadow: 0px 1px 2px rgba(60, 64, 67, 0.3), 0px 1px 3px 1px rgba(60, 64, 67, 0.15);\n",
              "      fill: #174EA6;\n",
              "    }\n",
              "\n",
              "    .colab-df-buttons div {\n",
              "      margin-bottom: 4px;\n",
              "    }\n",
              "\n",
              "    [theme=dark] .colab-df-convert {\n",
              "      background-color: #3B4455;\n",
              "      fill: #D2E3FC;\n",
              "    }\n",
              "\n",
              "    [theme=dark] .colab-df-convert:hover {\n",
              "      background-color: #434B5C;\n",
              "      box-shadow: 0px 1px 3px 1px rgba(0, 0, 0, 0.15);\n",
              "      filter: drop-shadow(0px 1px 2px rgba(0, 0, 0, 0.3));\n",
              "      fill: #FFFFFF;\n",
              "    }\n",
              "  </style>\n",
              "\n",
              "    <script>\n",
              "      const buttonEl =\n",
              "        document.querySelector('#df-607a88d6-9581-49c9-8270-efe4278a4e5a button.colab-df-convert');\n",
              "      buttonEl.style.display =\n",
              "        google.colab.kernel.accessAllowed ? 'block' : 'none';\n",
              "\n",
              "      async function convertToInteractive(key) {\n",
              "        const element = document.querySelector('#df-607a88d6-9581-49c9-8270-efe4278a4e5a');\n",
              "        const dataTable =\n",
              "          await google.colab.kernel.invokeFunction('convertToInteractive',\n",
              "                                                    [key], {});\n",
              "        if (!dataTable) return;\n",
              "\n",
              "        const docLinkHtml = 'Like what you see? Visit the ' +\n",
              "          '<a target=\"_blank\" href=https://colab.research.google.com/notebooks/data_table.ipynb>data table notebook</a>'\n",
              "          + ' to learn more about interactive tables.';\n",
              "        element.innerHTML = '';\n",
              "        dataTable['output_type'] = 'display_data';\n",
              "        await google.colab.output.renderOutput(dataTable, element);\n",
              "        const docLink = document.createElement('div');\n",
              "        docLink.innerHTML = docLinkHtml;\n",
              "        element.appendChild(docLink);\n",
              "      }\n",
              "    </script>\n",
              "  </div>\n",
              "\n",
              "\n",
              "    <div id=\"df-9eec9d80-e451-4139-a75e-da70d0f47b05\">\n",
              "      <button class=\"colab-df-quickchart\" onclick=\"quickchart('df-9eec9d80-e451-4139-a75e-da70d0f47b05')\"\n",
              "                title=\"Suggest charts\"\n",
              "                style=\"display:none;\">\n",
              "\n",
              "<svg xmlns=\"http://www.w3.org/2000/svg\" height=\"24px\"viewBox=\"0 0 24 24\"\n",
              "     width=\"24px\">\n",
              "    <g>\n",
              "        <path d=\"M19 3H5c-1.1 0-2 .9-2 2v14c0 1.1.9 2 2 2h14c1.1 0 2-.9 2-2V5c0-1.1-.9-2-2-2zM9 17H7v-7h2v7zm4 0h-2V7h2v10zm4 0h-2v-4h2v4z\"/>\n",
              "    </g>\n",
              "</svg>\n",
              "      </button>\n",
              "\n",
              "<style>\n",
              "  .colab-df-quickchart {\n",
              "      --bg-color: #E8F0FE;\n",
              "      --fill-color: #1967D2;\n",
              "      --hover-bg-color: #E2EBFA;\n",
              "      --hover-fill-color: #174EA6;\n",
              "      --disabled-fill-color: #AAA;\n",
              "      --disabled-bg-color: #DDD;\n",
              "  }\n",
              "\n",
              "  [theme=dark] .colab-df-quickchart {\n",
              "      --bg-color: #3B4455;\n",
              "      --fill-color: #D2E3FC;\n",
              "      --hover-bg-color: #434B5C;\n",
              "      --hover-fill-color: #FFFFFF;\n",
              "      --disabled-bg-color: #3B4455;\n",
              "      --disabled-fill-color: #666;\n",
              "  }\n",
              "\n",
              "  .colab-df-quickchart {\n",
              "    background-color: var(--bg-color);\n",
              "    border: none;\n",
              "    border-radius: 50%;\n",
              "    cursor: pointer;\n",
              "    display: none;\n",
              "    fill: var(--fill-color);\n",
              "    height: 32px;\n",
              "    padding: 0;\n",
              "    width: 32px;\n",
              "  }\n",
              "\n",
              "  .colab-df-quickchart:hover {\n",
              "    background-color: var(--hover-bg-color);\n",
              "    box-shadow: 0 1px 2px rgba(60, 64, 67, 0.3), 0 1px 3px 1px rgba(60, 64, 67, 0.15);\n",
              "    fill: var(--button-hover-fill-color);\n",
              "  }\n",
              "\n",
              "  .colab-df-quickchart-complete:disabled,\n",
              "  .colab-df-quickchart-complete:disabled:hover {\n",
              "    background-color: var(--disabled-bg-color);\n",
              "    fill: var(--disabled-fill-color);\n",
              "    box-shadow: none;\n",
              "  }\n",
              "\n",
              "  .colab-df-spinner {\n",
              "    border: 2px solid var(--fill-color);\n",
              "    border-color: transparent;\n",
              "    border-bottom-color: var(--fill-color);\n",
              "    animation:\n",
              "      spin 1s steps(1) infinite;\n",
              "  }\n",
              "\n",
              "  @keyframes spin {\n",
              "    0% {\n",
              "      border-color: transparent;\n",
              "      border-bottom-color: var(--fill-color);\n",
              "      border-left-color: var(--fill-color);\n",
              "    }\n",
              "    20% {\n",
              "      border-color: transparent;\n",
              "      border-left-color: var(--fill-color);\n",
              "      border-top-color: var(--fill-color);\n",
              "    }\n",
              "    30% {\n",
              "      border-color: transparent;\n",
              "      border-left-color: var(--fill-color);\n",
              "      border-top-color: var(--fill-color);\n",
              "      border-right-color: var(--fill-color);\n",
              "    }\n",
              "    40% {\n",
              "      border-color: transparent;\n",
              "      border-right-color: var(--fill-color);\n",
              "      border-top-color: var(--fill-color);\n",
              "    }\n",
              "    60% {\n",
              "      border-color: transparent;\n",
              "      border-right-color: var(--fill-color);\n",
              "    }\n",
              "    80% {\n",
              "      border-color: transparent;\n",
              "      border-right-color: var(--fill-color);\n",
              "      border-bottom-color: var(--fill-color);\n",
              "    }\n",
              "    90% {\n",
              "      border-color: transparent;\n",
              "      border-bottom-color: var(--fill-color);\n",
              "    }\n",
              "  }\n",
              "</style>\n",
              "\n",
              "      <script>\n",
              "        async function quickchart(key) {\n",
              "          const quickchartButtonEl =\n",
              "            document.querySelector('#' + key + ' button');\n",
              "          quickchartButtonEl.disabled = true;  // To prevent multiple clicks.\n",
              "          quickchartButtonEl.classList.add('colab-df-spinner');\n",
              "          try {\n",
              "            const charts = await google.colab.kernel.invokeFunction(\n",
              "                'suggestCharts', [key], {});\n",
              "          } catch (error) {\n",
              "            console.error('Error during call to suggestCharts:', error);\n",
              "          }\n",
              "          quickchartButtonEl.classList.remove('colab-df-spinner');\n",
              "          quickchartButtonEl.classList.add('colab-df-quickchart-complete');\n",
              "        }\n",
              "        (() => {\n",
              "          let quickchartButtonEl =\n",
              "            document.querySelector('#df-9eec9d80-e451-4139-a75e-da70d0f47b05 button');\n",
              "          quickchartButtonEl.style.display =\n",
              "            google.colab.kernel.accessAllowed ? 'block' : 'none';\n",
              "        })();\n",
              "      </script>\n",
              "    </div>\n",
              "\n",
              "    </div>\n",
              "  </div>\n"
            ],
            "application/vnd.google.colaboratory.intrinsic+json": {
              "type": "dataframe",
              "variable_name": "df",
              "summary": "{\n  \"name\": \"df\",\n  \"rows\": 1000,\n  \"fields\": [\n    {\n      \"column\": \"Year\",\n      \"properties\": {\n        \"dtype\": \"number\",\n        \"std\": 1,\n        \"min\": 2019,\n        \"max\": 2024,\n        \"num_unique_values\": 6,\n        \"samples\": [\n          2019,\n          2020,\n          2024\n        ],\n        \"semantic_type\": \"\",\n        \"description\": \"\"\n      }\n    },\n    {\n      \"column\": \"Quarter\",\n      \"properties\": {\n        \"dtype\": \"category\",\n        \"num_unique_values\": 4,\n        \"samples\": [\n          \"Q2\",\n          \"Q4\",\n          \"Q1\"\n        ],\n        \"semantic_type\": \"\",\n        \"description\": \"\"\n      }\n    },\n    {\n      \"column\": \"Product Model\",\n      \"properties\": {\n        \"dtype\": \"category\",\n        \"num_unique_values\": 15,\n        \"samples\": [\n          \"Galaxy Z Flip3 5G\",\n          \"Galaxy Z Fold3 5G\",\n          \"Galaxy S10\"\n        ],\n        \"semantic_type\": \"\",\n        \"description\": \"\"\n      }\n    },\n    {\n      \"column\": \"5G Capability\",\n      \"properties\": {\n        \"dtype\": \"category\",\n        \"num_unique_values\": 2,\n        \"samples\": [\n          \"Yes\",\n          \"No\"\n        ],\n        \"semantic_type\": \"\",\n        \"description\": \"\"\n      }\n    },\n    {\n      \"column\": \"Units Sold\",\n      \"properties\": {\n        \"dtype\": \"number\",\n        \"std\": 16039,\n        \"min\": 5309,\n        \"max\": 64883,\n        \"num_unique_values\": 354,\n        \"samples\": [\n          55853,\n          30819\n        ],\n        \"semantic_type\": \"\",\n        \"description\": \"\"\n      }\n    },\n    {\n      \"column\": \"Revenue ($)\",\n      \"properties\": {\n        \"dtype\": \"number\",\n        \"std\": 18379406.418186676,\n        \"min\": 2987436.384,\n        \"max\": 84264943.84,\n        \"num_unique_values\": 360,\n        \"samples\": [\n          11882936.57,\n          60274563.34\n        ],\n        \"semantic_type\": \"\",\n        \"description\": \"\"\n      }\n    },\n    {\n      \"column\": \"Market Share (%)\",\n      \"properties\": {\n        \"dtype\": \"number\",\n        \"std\": 1.9911084520859161,\n        \"min\": -0.49,\n        \"max\": 6.95,\n        \"num_unique_values\": 276,\n        \"samples\": [\n          1.38,\n          2.97\n        ],\n        \"semantic_type\": \"\",\n        \"description\": \"\"\n      }\n    },\n    {\n      \"column\": \"Regional 5G Coverage (%)\",\n      \"properties\": {\n        \"dtype\": \"number\",\n        \"std\": 19.254094678366027,\n        \"min\": 25.34,\n        \"max\": 103.92,\n        \"num_unique_values\": 344,\n        \"samples\": [\n          87.8,\n          89.43\n        ],\n        \"semantic_type\": \"\",\n        \"description\": \"\"\n      }\n    },\n    {\n      \"column\": \"5G Subscribers (millions)\",\n      \"properties\": {\n        \"dtype\": \"number\",\n        \"std\": 14.537781066997546,\n        \"min\": -0.89,\n        \"max\": 54.94,\n        \"num_unique_values\": 350,\n        \"samples\": [\n          51.51,\n          19.65\n        ],\n        \"semantic_type\": \"\",\n        \"description\": \"\"\n      }\n    },\n    {\n      \"column\": \"Avg 5G Speed (Mbps)\",\n      \"properties\": {\n        \"dtype\": \"number\",\n        \"std\": 70.47093366330387,\n        \"min\": 50.37,\n        \"max\": 298.7,\n        \"num_unique_values\": 358,\n        \"samples\": [\n          182.47,\n          199.68\n        ],\n        \"semantic_type\": \"\",\n        \"description\": \"\"\n      }\n    },\n    {\n      \"column\": \"Preference for 5G (%)\",\n      \"properties\": {\n        \"dtype\": \"number\",\n        \"std\": 15.759250458283436,\n        \"min\": 37.14,\n        \"max\": 94.84,\n        \"num_unique_values\": 348,\n        \"samples\": [\n          52.92,\n          83.63\n        ],\n        \"semantic_type\": \"\",\n        \"description\": \"\"\n      }\n    },\n    {\n      \"column\": \"Region\",\n      \"properties\": {\n        \"dtype\": \"category\",\n        \"num_unique_values\": 5,\n        \"samples\": [\n          \"Latin America\",\n          \"Europe\"\n        ],\n        \"semantic_type\": \"\",\n        \"description\": \"\"\n      }\n    }\n  ]\n}"
            }
          },
          "metadata": {},
          "execution_count": 5
        }
      ]
    },
    {
      "cell_type": "markdown",
      "source": [
        "###3.2 Last 5 Records"
      ],
      "metadata": {
        "id": "EEOOXzIi87Ru"
      }
    },
    {
      "cell_type": "code",
      "source": [
        "df.tail()"
      ],
      "metadata": {
        "colab": {
          "base_uri": "https://localhost:8080/",
          "height": 0
        },
        "id": "5Gsq7wD2zyVi",
        "outputId": "7031dad5-c507-44e0-db35-b3c3a5a67a08"
      },
      "execution_count": 6,
      "outputs": [
        {
          "output_type": "execute_result",
          "data": {
            "text/plain": [
              "     Year Quarter  Product Model 5G Capability  Units Sold   Revenue ($)  \\\n",
              "995  2023      Q4  Galaxy S22 5G           Yes       36216  2.995937e+07   \n",
              "996  2022      Q2     Galaxy S21            No       33806  2.369938e+07   \n",
              "997  2022      Q1     Galaxy S10            No       23678  2.330203e+07   \n",
              "998  2023      Q4  Galaxy Note10            No       35697  1.946256e+07   \n",
              "999  2020      Q4  Galaxy Note20            No        7473  1.962177e+07   \n",
              "\n",
              "     Market Share (%)  Regional 5G Coverage (%)  5G Subscribers (millions)  \\\n",
              "995              3.82                     70.59                      46.92   \n",
              "996             -0.23                     77.31                      47.51   \n",
              "997              0.58                     45.61                      43.79   \n",
              "998              2.49                     36.55                      36.44   \n",
              "999              3.88                     74.66                      27.55   \n",
              "\n",
              "     Avg 5G Speed (Mbps)  Preference for 5G (%)         Region  \n",
              "995               177.43                  63.86  Latin America  \n",
              "996               129.70                  78.41  North America  \n",
              "997               156.56                  72.06         Europe  \n",
              "998               236.39                  47.11  North America  \n",
              "999               177.22                  72.36  North America  "
            ],
            "text/html": [
              "\n",
              "  <div id=\"df-4b15ecae-0d4b-48be-ab68-52d71f895736\" class=\"colab-df-container\">\n",
              "    <div>\n",
              "<style scoped>\n",
              "    .dataframe tbody tr th:only-of-type {\n",
              "        vertical-align: middle;\n",
              "    }\n",
              "\n",
              "    .dataframe tbody tr th {\n",
              "        vertical-align: top;\n",
              "    }\n",
              "\n",
              "    .dataframe thead th {\n",
              "        text-align: right;\n",
              "    }\n",
              "</style>\n",
              "<table border=\"1\" class=\"dataframe\">\n",
              "  <thead>\n",
              "    <tr style=\"text-align: right;\">\n",
              "      <th></th>\n",
              "      <th>Year</th>\n",
              "      <th>Quarter</th>\n",
              "      <th>Product Model</th>\n",
              "      <th>5G Capability</th>\n",
              "      <th>Units Sold</th>\n",
              "      <th>Revenue ($)</th>\n",
              "      <th>Market Share (%)</th>\n",
              "      <th>Regional 5G Coverage (%)</th>\n",
              "      <th>5G Subscribers (millions)</th>\n",
              "      <th>Avg 5G Speed (Mbps)</th>\n",
              "      <th>Preference for 5G (%)</th>\n",
              "      <th>Region</th>\n",
              "    </tr>\n",
              "  </thead>\n",
              "  <tbody>\n",
              "    <tr>\n",
              "      <th>995</th>\n",
              "      <td>2023</td>\n",
              "      <td>Q4</td>\n",
              "      <td>Galaxy S22 5G</td>\n",
              "      <td>Yes</td>\n",
              "      <td>36216</td>\n",
              "      <td>2.995937e+07</td>\n",
              "      <td>3.82</td>\n",
              "      <td>70.59</td>\n",
              "      <td>46.92</td>\n",
              "      <td>177.43</td>\n",
              "      <td>63.86</td>\n",
              "      <td>Latin America</td>\n",
              "    </tr>\n",
              "    <tr>\n",
              "      <th>996</th>\n",
              "      <td>2022</td>\n",
              "      <td>Q2</td>\n",
              "      <td>Galaxy S21</td>\n",
              "      <td>No</td>\n",
              "      <td>33806</td>\n",
              "      <td>2.369938e+07</td>\n",
              "      <td>-0.23</td>\n",
              "      <td>77.31</td>\n",
              "      <td>47.51</td>\n",
              "      <td>129.70</td>\n",
              "      <td>78.41</td>\n",
              "      <td>North America</td>\n",
              "    </tr>\n",
              "    <tr>\n",
              "      <th>997</th>\n",
              "      <td>2022</td>\n",
              "      <td>Q1</td>\n",
              "      <td>Galaxy S10</td>\n",
              "      <td>No</td>\n",
              "      <td>23678</td>\n",
              "      <td>2.330203e+07</td>\n",
              "      <td>0.58</td>\n",
              "      <td>45.61</td>\n",
              "      <td>43.79</td>\n",
              "      <td>156.56</td>\n",
              "      <td>72.06</td>\n",
              "      <td>Europe</td>\n",
              "    </tr>\n",
              "    <tr>\n",
              "      <th>998</th>\n",
              "      <td>2023</td>\n",
              "      <td>Q4</td>\n",
              "      <td>Galaxy Note10</td>\n",
              "      <td>No</td>\n",
              "      <td>35697</td>\n",
              "      <td>1.946256e+07</td>\n",
              "      <td>2.49</td>\n",
              "      <td>36.55</td>\n",
              "      <td>36.44</td>\n",
              "      <td>236.39</td>\n",
              "      <td>47.11</td>\n",
              "      <td>North America</td>\n",
              "    </tr>\n",
              "    <tr>\n",
              "      <th>999</th>\n",
              "      <td>2020</td>\n",
              "      <td>Q4</td>\n",
              "      <td>Galaxy Note20</td>\n",
              "      <td>No</td>\n",
              "      <td>7473</td>\n",
              "      <td>1.962177e+07</td>\n",
              "      <td>3.88</td>\n",
              "      <td>74.66</td>\n",
              "      <td>27.55</td>\n",
              "      <td>177.22</td>\n",
              "      <td>72.36</td>\n",
              "      <td>North America</td>\n",
              "    </tr>\n",
              "  </tbody>\n",
              "</table>\n",
              "</div>\n",
              "    <div class=\"colab-df-buttons\">\n",
              "\n",
              "  <div class=\"colab-df-container\">\n",
              "    <button class=\"colab-df-convert\" onclick=\"convertToInteractive('df-4b15ecae-0d4b-48be-ab68-52d71f895736')\"\n",
              "            title=\"Convert this dataframe to an interactive table.\"\n",
              "            style=\"display:none;\">\n",
              "\n",
              "  <svg xmlns=\"http://www.w3.org/2000/svg\" height=\"24px\" viewBox=\"0 -960 960 960\">\n",
              "    <path d=\"M120-120v-720h720v720H120Zm60-500h600v-160H180v160Zm220 220h160v-160H400v160Zm0 220h160v-160H400v160ZM180-400h160v-160H180v160Zm440 0h160v-160H620v160ZM180-180h160v-160H180v160Zm440 0h160v-160H620v160Z\"/>\n",
              "  </svg>\n",
              "    </button>\n",
              "\n",
              "  <style>\n",
              "    .colab-df-container {\n",
              "      display:flex;\n",
              "      gap: 12px;\n",
              "    }\n",
              "\n",
              "    .colab-df-convert {\n",
              "      background-color: #E8F0FE;\n",
              "      border: none;\n",
              "      border-radius: 50%;\n",
              "      cursor: pointer;\n",
              "      display: none;\n",
              "      fill: #1967D2;\n",
              "      height: 32px;\n",
              "      padding: 0 0 0 0;\n",
              "      width: 32px;\n",
              "    }\n",
              "\n",
              "    .colab-df-convert:hover {\n",
              "      background-color: #E2EBFA;\n",
              "      box-shadow: 0px 1px 2px rgba(60, 64, 67, 0.3), 0px 1px 3px 1px rgba(60, 64, 67, 0.15);\n",
              "      fill: #174EA6;\n",
              "    }\n",
              "\n",
              "    .colab-df-buttons div {\n",
              "      margin-bottom: 4px;\n",
              "    }\n",
              "\n",
              "    [theme=dark] .colab-df-convert {\n",
              "      background-color: #3B4455;\n",
              "      fill: #D2E3FC;\n",
              "    }\n",
              "\n",
              "    [theme=dark] .colab-df-convert:hover {\n",
              "      background-color: #434B5C;\n",
              "      box-shadow: 0px 1px 3px 1px rgba(0, 0, 0, 0.15);\n",
              "      filter: drop-shadow(0px 1px 2px rgba(0, 0, 0, 0.3));\n",
              "      fill: #FFFFFF;\n",
              "    }\n",
              "  </style>\n",
              "\n",
              "    <script>\n",
              "      const buttonEl =\n",
              "        document.querySelector('#df-4b15ecae-0d4b-48be-ab68-52d71f895736 button.colab-df-convert');\n",
              "      buttonEl.style.display =\n",
              "        google.colab.kernel.accessAllowed ? 'block' : 'none';\n",
              "\n",
              "      async function convertToInteractive(key) {\n",
              "        const element = document.querySelector('#df-4b15ecae-0d4b-48be-ab68-52d71f895736');\n",
              "        const dataTable =\n",
              "          await google.colab.kernel.invokeFunction('convertToInteractive',\n",
              "                                                    [key], {});\n",
              "        if (!dataTable) return;\n",
              "\n",
              "        const docLinkHtml = 'Like what you see? Visit the ' +\n",
              "          '<a target=\"_blank\" href=https://colab.research.google.com/notebooks/data_table.ipynb>data table notebook</a>'\n",
              "          + ' to learn more about interactive tables.';\n",
              "        element.innerHTML = '';\n",
              "        dataTable['output_type'] = 'display_data';\n",
              "        await google.colab.output.renderOutput(dataTable, element);\n",
              "        const docLink = document.createElement('div');\n",
              "        docLink.innerHTML = docLinkHtml;\n",
              "        element.appendChild(docLink);\n",
              "      }\n",
              "    </script>\n",
              "  </div>\n",
              "\n",
              "\n",
              "    <div id=\"df-3f5cc868-fb48-4975-81da-5e51c03b2563\">\n",
              "      <button class=\"colab-df-quickchart\" onclick=\"quickchart('df-3f5cc868-fb48-4975-81da-5e51c03b2563')\"\n",
              "                title=\"Suggest charts\"\n",
              "                style=\"display:none;\">\n",
              "\n",
              "<svg xmlns=\"http://www.w3.org/2000/svg\" height=\"24px\"viewBox=\"0 0 24 24\"\n",
              "     width=\"24px\">\n",
              "    <g>\n",
              "        <path d=\"M19 3H5c-1.1 0-2 .9-2 2v14c0 1.1.9 2 2 2h14c1.1 0 2-.9 2-2V5c0-1.1-.9-2-2-2zM9 17H7v-7h2v7zm4 0h-2V7h2v10zm4 0h-2v-4h2v4z\"/>\n",
              "    </g>\n",
              "</svg>\n",
              "      </button>\n",
              "\n",
              "<style>\n",
              "  .colab-df-quickchart {\n",
              "      --bg-color: #E8F0FE;\n",
              "      --fill-color: #1967D2;\n",
              "      --hover-bg-color: #E2EBFA;\n",
              "      --hover-fill-color: #174EA6;\n",
              "      --disabled-fill-color: #AAA;\n",
              "      --disabled-bg-color: #DDD;\n",
              "  }\n",
              "\n",
              "  [theme=dark] .colab-df-quickchart {\n",
              "      --bg-color: #3B4455;\n",
              "      --fill-color: #D2E3FC;\n",
              "      --hover-bg-color: #434B5C;\n",
              "      --hover-fill-color: #FFFFFF;\n",
              "      --disabled-bg-color: #3B4455;\n",
              "      --disabled-fill-color: #666;\n",
              "  }\n",
              "\n",
              "  .colab-df-quickchart {\n",
              "    background-color: var(--bg-color);\n",
              "    border: none;\n",
              "    border-radius: 50%;\n",
              "    cursor: pointer;\n",
              "    display: none;\n",
              "    fill: var(--fill-color);\n",
              "    height: 32px;\n",
              "    padding: 0;\n",
              "    width: 32px;\n",
              "  }\n",
              "\n",
              "  .colab-df-quickchart:hover {\n",
              "    background-color: var(--hover-bg-color);\n",
              "    box-shadow: 0 1px 2px rgba(60, 64, 67, 0.3), 0 1px 3px 1px rgba(60, 64, 67, 0.15);\n",
              "    fill: var(--button-hover-fill-color);\n",
              "  }\n",
              "\n",
              "  .colab-df-quickchart-complete:disabled,\n",
              "  .colab-df-quickchart-complete:disabled:hover {\n",
              "    background-color: var(--disabled-bg-color);\n",
              "    fill: var(--disabled-fill-color);\n",
              "    box-shadow: none;\n",
              "  }\n",
              "\n",
              "  .colab-df-spinner {\n",
              "    border: 2px solid var(--fill-color);\n",
              "    border-color: transparent;\n",
              "    border-bottom-color: var(--fill-color);\n",
              "    animation:\n",
              "      spin 1s steps(1) infinite;\n",
              "  }\n",
              "\n",
              "  @keyframes spin {\n",
              "    0% {\n",
              "      border-color: transparent;\n",
              "      border-bottom-color: var(--fill-color);\n",
              "      border-left-color: var(--fill-color);\n",
              "    }\n",
              "    20% {\n",
              "      border-color: transparent;\n",
              "      border-left-color: var(--fill-color);\n",
              "      border-top-color: var(--fill-color);\n",
              "    }\n",
              "    30% {\n",
              "      border-color: transparent;\n",
              "      border-left-color: var(--fill-color);\n",
              "      border-top-color: var(--fill-color);\n",
              "      border-right-color: var(--fill-color);\n",
              "    }\n",
              "    40% {\n",
              "      border-color: transparent;\n",
              "      border-right-color: var(--fill-color);\n",
              "      border-top-color: var(--fill-color);\n",
              "    }\n",
              "    60% {\n",
              "      border-color: transparent;\n",
              "      border-right-color: var(--fill-color);\n",
              "    }\n",
              "    80% {\n",
              "      border-color: transparent;\n",
              "      border-right-color: var(--fill-color);\n",
              "      border-bottom-color: var(--fill-color);\n",
              "    }\n",
              "    90% {\n",
              "      border-color: transparent;\n",
              "      border-bottom-color: var(--fill-color);\n",
              "    }\n",
              "  }\n",
              "</style>\n",
              "\n",
              "      <script>\n",
              "        async function quickchart(key) {\n",
              "          const quickchartButtonEl =\n",
              "            document.querySelector('#' + key + ' button');\n",
              "          quickchartButtonEl.disabled = true;  // To prevent multiple clicks.\n",
              "          quickchartButtonEl.classList.add('colab-df-spinner');\n",
              "          try {\n",
              "            const charts = await google.colab.kernel.invokeFunction(\n",
              "                'suggestCharts', [key], {});\n",
              "          } catch (error) {\n",
              "            console.error('Error during call to suggestCharts:', error);\n",
              "          }\n",
              "          quickchartButtonEl.classList.remove('colab-df-spinner');\n",
              "          quickchartButtonEl.classList.add('colab-df-quickchart-complete');\n",
              "        }\n",
              "        (() => {\n",
              "          let quickchartButtonEl =\n",
              "            document.querySelector('#df-3f5cc868-fb48-4975-81da-5e51c03b2563 button');\n",
              "          quickchartButtonEl.style.display =\n",
              "            google.colab.kernel.accessAllowed ? 'block' : 'none';\n",
              "        })();\n",
              "      </script>\n",
              "    </div>\n",
              "\n",
              "    </div>\n",
              "  </div>\n"
            ],
            "application/vnd.google.colaboratory.intrinsic+json": {
              "type": "dataframe",
              "summary": "{\n  \"name\": \"df\",\n  \"rows\": 5,\n  \"fields\": [\n    {\n      \"column\": \"Year\",\n      \"properties\": {\n        \"dtype\": \"number\",\n        \"std\": 1,\n        \"min\": 2020,\n        \"max\": 2023,\n        \"num_unique_values\": 3,\n        \"samples\": [\n          2023,\n          2022,\n          2020\n        ],\n        \"semantic_type\": \"\",\n        \"description\": \"\"\n      }\n    },\n    {\n      \"column\": \"Quarter\",\n      \"properties\": {\n        \"dtype\": \"string\",\n        \"num_unique_values\": 3,\n        \"samples\": [\n          \"Q4\",\n          \"Q2\",\n          \"Q1\"\n        ],\n        \"semantic_type\": \"\",\n        \"description\": \"\"\n      }\n    },\n    {\n      \"column\": \"Product Model\",\n      \"properties\": {\n        \"dtype\": \"string\",\n        \"num_unique_values\": 5,\n        \"samples\": [\n          \"Galaxy S21\",\n          \"Galaxy Note20\",\n          \"Galaxy S10\"\n        ],\n        \"semantic_type\": \"\",\n        \"description\": \"\"\n      }\n    },\n    {\n      \"column\": \"5G Capability\",\n      \"properties\": {\n        \"dtype\": \"category\",\n        \"num_unique_values\": 2,\n        \"samples\": [\n          \"No\",\n          \"Yes\"\n        ],\n        \"semantic_type\": \"\",\n        \"description\": \"\"\n      }\n    },\n    {\n      \"column\": \"Units Sold\",\n      \"properties\": {\n        \"dtype\": \"number\",\n        \"std\": 12232,\n        \"min\": 7473,\n        \"max\": 36216,\n        \"num_unique_values\": 5,\n        \"samples\": [\n          33806,\n          7473\n        ],\n        \"semantic_type\": \"\",\n        \"description\": \"\"\n      }\n    },\n    {\n      \"column\": \"Revenue ($)\",\n      \"properties\": {\n        \"dtype\": \"number\",\n        \"std\": 4263820.688528215,\n        \"min\": 19462564.98,\n        \"max\": 29959374.23,\n        \"num_unique_values\": 5,\n        \"samples\": [\n          23699378.709000003,\n          19621770.61\n        ],\n        \"semantic_type\": \"\",\n        \"description\": \"\"\n      }\n    },\n    {\n      \"column\": \"Market Share (%)\",\n      \"properties\": {\n        \"dtype\": \"number\",\n        \"std\": 1.8720229699445463,\n        \"min\": -0.23,\n        \"max\": 3.88,\n        \"num_unique_values\": 5,\n        \"samples\": [\n          -0.23,\n          3.88\n        ],\n        \"semantic_type\": \"\",\n        \"description\": \"\"\n      }\n    },\n    {\n      \"column\": \"Regional 5G Coverage (%)\",\n      \"properties\": {\n        \"dtype\": \"number\",\n        \"std\": 18.568917038965953,\n        \"min\": 36.55,\n        \"max\": 77.31,\n        \"num_unique_values\": 5,\n        \"samples\": [\n          77.31,\n          74.66\n        ],\n        \"semantic_type\": \"\",\n        \"description\": \"\"\n      }\n    },\n    {\n      \"column\": \"5G Subscribers (millions)\",\n      \"properties\": {\n        \"dtype\": \"number\",\n        \"std\": 8.446151194479057,\n        \"min\": 27.55,\n        \"max\": 47.51,\n        \"num_unique_values\": 5,\n        \"samples\": [\n          47.51,\n          27.55\n        ],\n        \"semantic_type\": \"\",\n        \"description\": \"\"\n      }\n    },\n    {\n      \"column\": \"Avg 5G Speed (Mbps)\",\n      \"properties\": {\n        \"dtype\": \"number\",\n        \"std\": 39.27668201363247,\n        \"min\": 129.7,\n        \"max\": 236.39,\n        \"num_unique_values\": 5,\n        \"samples\": [\n          129.7,\n          177.22\n        ],\n        \"semantic_type\": \"\",\n        \"description\": \"\"\n      }\n    },\n    {\n      \"column\": \"Preference for 5G (%)\",\n      \"properties\": {\n        \"dtype\": \"number\",\n        \"std\": 12.141921182415903,\n        \"min\": 47.11,\n        \"max\": 78.41,\n        \"num_unique_values\": 5,\n        \"samples\": [\n          78.41,\n          72.36\n        ],\n        \"semantic_type\": \"\",\n        \"description\": \"\"\n      }\n    },\n    {\n      \"column\": \"Region\",\n      \"properties\": {\n        \"dtype\": \"string\",\n        \"num_unique_values\": 3,\n        \"samples\": [\n          \"Latin America\",\n          \"North America\"\n        ],\n        \"semantic_type\": \"\",\n        \"description\": \"\"\n      }\n    }\n  ]\n}"
            }
          },
          "metadata": {},
          "execution_count": 6
        }
      ]
    },
    {
      "cell_type": "markdown",
      "source": [
        "###3.3 Table structure information"
      ],
      "metadata": {
        "id": "X4-rrK189HTY"
      }
    },
    {
      "cell_type": "code",
      "source": [
        "df.info()"
      ],
      "metadata": {
        "colab": {
          "base_uri": "https://localhost:8080/"
        },
        "id": "kINbCYSW9NRU",
        "outputId": "ee106322-bf83-4d19-ec23-3a1d09516707"
      },
      "execution_count": 7,
      "outputs": [
        {
          "output_type": "stream",
          "name": "stdout",
          "text": [
            "<class 'pandas.core.frame.DataFrame'>\n",
            "RangeIndex: 1000 entries, 0 to 999\n",
            "Data columns (total 12 columns):\n",
            " #   Column                     Non-Null Count  Dtype  \n",
            "---  ------                     --------------  -----  \n",
            " 0   Year                       1000 non-null   int64  \n",
            " 1   Quarter                    1000 non-null   object \n",
            " 2   Product Model              1000 non-null   object \n",
            " 3   5G Capability              1000 non-null   object \n",
            " 4   Units Sold                 1000 non-null   int64  \n",
            " 5   Revenue ($)                1000 non-null   float64\n",
            " 6   Market Share (%)           1000 non-null   float64\n",
            " 7   Regional 5G Coverage (%)   1000 non-null   float64\n",
            " 8   5G Subscribers (millions)  1000 non-null   float64\n",
            " 9   Avg 5G Speed (Mbps)        1000 non-null   float64\n",
            " 10  Preference for 5G (%)      1000 non-null   float64\n",
            " 11  Region                     1000 non-null   object \n",
            "dtypes: float64(6), int64(2), object(4)\n",
            "memory usage: 93.9+ KB\n"
          ]
        }
      ]
    },
    {
      "cell_type": "markdown",
      "source": [
        "### 3.4 Simple table calculations"
      ],
      "metadata": {
        "id": "Gaq5xsUkBXSS"
      }
    },
    {
      "cell_type": "code",
      "source": [
        "df.describe()"
      ],
      "metadata": {
        "colab": {
          "base_uri": "https://localhost:8080/",
          "height": 300
        },
        "id": "9ct-1e0H-021",
        "outputId": "ca7c6be2-faad-4ee2-a5c5-b9b698ed0f7f"
      },
      "execution_count": 8,
      "outputs": [
        {
          "output_type": "execute_result",
          "data": {
            "text/plain": [
              "              Year    Units Sold   Revenue ($)  Market Share (%)  \\\n",
              "count  1000.000000   1000.000000  1.000000e+03       1000.000000   \n",
              "mean   2021.456000  32842.990000  3.019733e+07          3.723570   \n",
              "std       1.700281  16039.770572  1.837941e+07          1.991108   \n",
              "min    2019.000000   5309.000000  2.987436e+06         -0.490000   \n",
              "25%    2020.000000  19327.250000  1.460749e+07          2.635000   \n",
              "50%    2021.000000  33689.000000  2.801200e+07          3.760000   \n",
              "75%    2023.000000  43911.000000  4.180391e+07          5.282500   \n",
              "max    2024.000000  64883.000000  8.426494e+07          6.950000   \n",
              "\n",
              "       Regional 5G Coverage (%)  5G Subscribers (millions)  \\\n",
              "count               1000.000000                1000.000000   \n",
              "mean                  66.889720                  30.152080   \n",
              "std                   19.254095                  14.537781   \n",
              "min                   25.340000                  -0.890000   \n",
              "25%                   50.400000                  18.412500   \n",
              "50%                   67.050000                  29.915000   \n",
              "75%                   83.210000                  44.360000   \n",
              "max                  103.920000                  54.940000   \n",
              "\n",
              "       Avg 5G Speed (Mbps)  Preference for 5G (%)  \n",
              "count          1000.000000             1000.00000  \n",
              "mean            179.225560               67.14291  \n",
              "std              70.470934               15.75925  \n",
              "min              50.370000               37.14000  \n",
              "25%             120.410000               53.26750  \n",
              "50%             177.390000               66.96000  \n",
              "75%             238.860000               80.99000  \n",
              "max             298.700000               94.84000  "
            ],
            "text/html": [
              "\n",
              "  <div id=\"df-5e81804e-6f28-4485-8d3b-d97a9dbf1675\" class=\"colab-df-container\">\n",
              "    <div>\n",
              "<style scoped>\n",
              "    .dataframe tbody tr th:only-of-type {\n",
              "        vertical-align: middle;\n",
              "    }\n",
              "\n",
              "    .dataframe tbody tr th {\n",
              "        vertical-align: top;\n",
              "    }\n",
              "\n",
              "    .dataframe thead th {\n",
              "        text-align: right;\n",
              "    }\n",
              "</style>\n",
              "<table border=\"1\" class=\"dataframe\">\n",
              "  <thead>\n",
              "    <tr style=\"text-align: right;\">\n",
              "      <th></th>\n",
              "      <th>Year</th>\n",
              "      <th>Units Sold</th>\n",
              "      <th>Revenue ($)</th>\n",
              "      <th>Market Share (%)</th>\n",
              "      <th>Regional 5G Coverage (%)</th>\n",
              "      <th>5G Subscribers (millions)</th>\n",
              "      <th>Avg 5G Speed (Mbps)</th>\n",
              "      <th>Preference for 5G (%)</th>\n",
              "    </tr>\n",
              "  </thead>\n",
              "  <tbody>\n",
              "    <tr>\n",
              "      <th>count</th>\n",
              "      <td>1000.000000</td>\n",
              "      <td>1000.000000</td>\n",
              "      <td>1.000000e+03</td>\n",
              "      <td>1000.000000</td>\n",
              "      <td>1000.000000</td>\n",
              "      <td>1000.000000</td>\n",
              "      <td>1000.000000</td>\n",
              "      <td>1000.00000</td>\n",
              "    </tr>\n",
              "    <tr>\n",
              "      <th>mean</th>\n",
              "      <td>2021.456000</td>\n",
              "      <td>32842.990000</td>\n",
              "      <td>3.019733e+07</td>\n",
              "      <td>3.723570</td>\n",
              "      <td>66.889720</td>\n",
              "      <td>30.152080</td>\n",
              "      <td>179.225560</td>\n",
              "      <td>67.14291</td>\n",
              "    </tr>\n",
              "    <tr>\n",
              "      <th>std</th>\n",
              "      <td>1.700281</td>\n",
              "      <td>16039.770572</td>\n",
              "      <td>1.837941e+07</td>\n",
              "      <td>1.991108</td>\n",
              "      <td>19.254095</td>\n",
              "      <td>14.537781</td>\n",
              "      <td>70.470934</td>\n",
              "      <td>15.75925</td>\n",
              "    </tr>\n",
              "    <tr>\n",
              "      <th>min</th>\n",
              "      <td>2019.000000</td>\n",
              "      <td>5309.000000</td>\n",
              "      <td>2.987436e+06</td>\n",
              "      <td>-0.490000</td>\n",
              "      <td>25.340000</td>\n",
              "      <td>-0.890000</td>\n",
              "      <td>50.370000</td>\n",
              "      <td>37.14000</td>\n",
              "    </tr>\n",
              "    <tr>\n",
              "      <th>25%</th>\n",
              "      <td>2020.000000</td>\n",
              "      <td>19327.250000</td>\n",
              "      <td>1.460749e+07</td>\n",
              "      <td>2.635000</td>\n",
              "      <td>50.400000</td>\n",
              "      <td>18.412500</td>\n",
              "      <td>120.410000</td>\n",
              "      <td>53.26750</td>\n",
              "    </tr>\n",
              "    <tr>\n",
              "      <th>50%</th>\n",
              "      <td>2021.000000</td>\n",
              "      <td>33689.000000</td>\n",
              "      <td>2.801200e+07</td>\n",
              "      <td>3.760000</td>\n",
              "      <td>67.050000</td>\n",
              "      <td>29.915000</td>\n",
              "      <td>177.390000</td>\n",
              "      <td>66.96000</td>\n",
              "    </tr>\n",
              "    <tr>\n",
              "      <th>75%</th>\n",
              "      <td>2023.000000</td>\n",
              "      <td>43911.000000</td>\n",
              "      <td>4.180391e+07</td>\n",
              "      <td>5.282500</td>\n",
              "      <td>83.210000</td>\n",
              "      <td>44.360000</td>\n",
              "      <td>238.860000</td>\n",
              "      <td>80.99000</td>\n",
              "    </tr>\n",
              "    <tr>\n",
              "      <th>max</th>\n",
              "      <td>2024.000000</td>\n",
              "      <td>64883.000000</td>\n",
              "      <td>8.426494e+07</td>\n",
              "      <td>6.950000</td>\n",
              "      <td>103.920000</td>\n",
              "      <td>54.940000</td>\n",
              "      <td>298.700000</td>\n",
              "      <td>94.84000</td>\n",
              "    </tr>\n",
              "  </tbody>\n",
              "</table>\n",
              "</div>\n",
              "    <div class=\"colab-df-buttons\">\n",
              "\n",
              "  <div class=\"colab-df-container\">\n",
              "    <button class=\"colab-df-convert\" onclick=\"convertToInteractive('df-5e81804e-6f28-4485-8d3b-d97a9dbf1675')\"\n",
              "            title=\"Convert this dataframe to an interactive table.\"\n",
              "            style=\"display:none;\">\n",
              "\n",
              "  <svg xmlns=\"http://www.w3.org/2000/svg\" height=\"24px\" viewBox=\"0 -960 960 960\">\n",
              "    <path d=\"M120-120v-720h720v720H120Zm60-500h600v-160H180v160Zm220 220h160v-160H400v160Zm0 220h160v-160H400v160ZM180-400h160v-160H180v160Zm440 0h160v-160H620v160ZM180-180h160v-160H180v160Zm440 0h160v-160H620v160Z\"/>\n",
              "  </svg>\n",
              "    </button>\n",
              "\n",
              "  <style>\n",
              "    .colab-df-container {\n",
              "      display:flex;\n",
              "      gap: 12px;\n",
              "    }\n",
              "\n",
              "    .colab-df-convert {\n",
              "      background-color: #E8F0FE;\n",
              "      border: none;\n",
              "      border-radius: 50%;\n",
              "      cursor: pointer;\n",
              "      display: none;\n",
              "      fill: #1967D2;\n",
              "      height: 32px;\n",
              "      padding: 0 0 0 0;\n",
              "      width: 32px;\n",
              "    }\n",
              "\n",
              "    .colab-df-convert:hover {\n",
              "      background-color: #E2EBFA;\n",
              "      box-shadow: 0px 1px 2px rgba(60, 64, 67, 0.3), 0px 1px 3px 1px rgba(60, 64, 67, 0.15);\n",
              "      fill: #174EA6;\n",
              "    }\n",
              "\n",
              "    .colab-df-buttons div {\n",
              "      margin-bottom: 4px;\n",
              "    }\n",
              "\n",
              "    [theme=dark] .colab-df-convert {\n",
              "      background-color: #3B4455;\n",
              "      fill: #D2E3FC;\n",
              "    }\n",
              "\n",
              "    [theme=dark] .colab-df-convert:hover {\n",
              "      background-color: #434B5C;\n",
              "      box-shadow: 0px 1px 3px 1px rgba(0, 0, 0, 0.15);\n",
              "      filter: drop-shadow(0px 1px 2px rgba(0, 0, 0, 0.3));\n",
              "      fill: #FFFFFF;\n",
              "    }\n",
              "  </style>\n",
              "\n",
              "    <script>\n",
              "      const buttonEl =\n",
              "        document.querySelector('#df-5e81804e-6f28-4485-8d3b-d97a9dbf1675 button.colab-df-convert');\n",
              "      buttonEl.style.display =\n",
              "        google.colab.kernel.accessAllowed ? 'block' : 'none';\n",
              "\n",
              "      async function convertToInteractive(key) {\n",
              "        const element = document.querySelector('#df-5e81804e-6f28-4485-8d3b-d97a9dbf1675');\n",
              "        const dataTable =\n",
              "          await google.colab.kernel.invokeFunction('convertToInteractive',\n",
              "                                                    [key], {});\n",
              "        if (!dataTable) return;\n",
              "\n",
              "        const docLinkHtml = 'Like what you see? Visit the ' +\n",
              "          '<a target=\"_blank\" href=https://colab.research.google.com/notebooks/data_table.ipynb>data table notebook</a>'\n",
              "          + ' to learn more about interactive tables.';\n",
              "        element.innerHTML = '';\n",
              "        dataTable['output_type'] = 'display_data';\n",
              "        await google.colab.output.renderOutput(dataTable, element);\n",
              "        const docLink = document.createElement('div');\n",
              "        docLink.innerHTML = docLinkHtml;\n",
              "        element.appendChild(docLink);\n",
              "      }\n",
              "    </script>\n",
              "  </div>\n",
              "\n",
              "\n",
              "    <div id=\"df-3409b73f-a1ca-4df4-a09e-4920ea26f8d7\">\n",
              "      <button class=\"colab-df-quickchart\" onclick=\"quickchart('df-3409b73f-a1ca-4df4-a09e-4920ea26f8d7')\"\n",
              "                title=\"Suggest charts\"\n",
              "                style=\"display:none;\">\n",
              "\n",
              "<svg xmlns=\"http://www.w3.org/2000/svg\" height=\"24px\"viewBox=\"0 0 24 24\"\n",
              "     width=\"24px\">\n",
              "    <g>\n",
              "        <path d=\"M19 3H5c-1.1 0-2 .9-2 2v14c0 1.1.9 2 2 2h14c1.1 0 2-.9 2-2V5c0-1.1-.9-2-2-2zM9 17H7v-7h2v7zm4 0h-2V7h2v10zm4 0h-2v-4h2v4z\"/>\n",
              "    </g>\n",
              "</svg>\n",
              "      </button>\n",
              "\n",
              "<style>\n",
              "  .colab-df-quickchart {\n",
              "      --bg-color: #E8F0FE;\n",
              "      --fill-color: #1967D2;\n",
              "      --hover-bg-color: #E2EBFA;\n",
              "      --hover-fill-color: #174EA6;\n",
              "      --disabled-fill-color: #AAA;\n",
              "      --disabled-bg-color: #DDD;\n",
              "  }\n",
              "\n",
              "  [theme=dark] .colab-df-quickchart {\n",
              "      --bg-color: #3B4455;\n",
              "      --fill-color: #D2E3FC;\n",
              "      --hover-bg-color: #434B5C;\n",
              "      --hover-fill-color: #FFFFFF;\n",
              "      --disabled-bg-color: #3B4455;\n",
              "      --disabled-fill-color: #666;\n",
              "  }\n",
              "\n",
              "  .colab-df-quickchart {\n",
              "    background-color: var(--bg-color);\n",
              "    border: none;\n",
              "    border-radius: 50%;\n",
              "    cursor: pointer;\n",
              "    display: none;\n",
              "    fill: var(--fill-color);\n",
              "    height: 32px;\n",
              "    padding: 0;\n",
              "    width: 32px;\n",
              "  }\n",
              "\n",
              "  .colab-df-quickchart:hover {\n",
              "    background-color: var(--hover-bg-color);\n",
              "    box-shadow: 0 1px 2px rgba(60, 64, 67, 0.3), 0 1px 3px 1px rgba(60, 64, 67, 0.15);\n",
              "    fill: var(--button-hover-fill-color);\n",
              "  }\n",
              "\n",
              "  .colab-df-quickchart-complete:disabled,\n",
              "  .colab-df-quickchart-complete:disabled:hover {\n",
              "    background-color: var(--disabled-bg-color);\n",
              "    fill: var(--disabled-fill-color);\n",
              "    box-shadow: none;\n",
              "  }\n",
              "\n",
              "  .colab-df-spinner {\n",
              "    border: 2px solid var(--fill-color);\n",
              "    border-color: transparent;\n",
              "    border-bottom-color: var(--fill-color);\n",
              "    animation:\n",
              "      spin 1s steps(1) infinite;\n",
              "  }\n",
              "\n",
              "  @keyframes spin {\n",
              "    0% {\n",
              "      border-color: transparent;\n",
              "      border-bottom-color: var(--fill-color);\n",
              "      border-left-color: var(--fill-color);\n",
              "    }\n",
              "    20% {\n",
              "      border-color: transparent;\n",
              "      border-left-color: var(--fill-color);\n",
              "      border-top-color: var(--fill-color);\n",
              "    }\n",
              "    30% {\n",
              "      border-color: transparent;\n",
              "      border-left-color: var(--fill-color);\n",
              "      border-top-color: var(--fill-color);\n",
              "      border-right-color: var(--fill-color);\n",
              "    }\n",
              "    40% {\n",
              "      border-color: transparent;\n",
              "      border-right-color: var(--fill-color);\n",
              "      border-top-color: var(--fill-color);\n",
              "    }\n",
              "    60% {\n",
              "      border-color: transparent;\n",
              "      border-right-color: var(--fill-color);\n",
              "    }\n",
              "    80% {\n",
              "      border-color: transparent;\n",
              "      border-right-color: var(--fill-color);\n",
              "      border-bottom-color: var(--fill-color);\n",
              "    }\n",
              "    90% {\n",
              "      border-color: transparent;\n",
              "      border-bottom-color: var(--fill-color);\n",
              "    }\n",
              "  }\n",
              "</style>\n",
              "\n",
              "      <script>\n",
              "        async function quickchart(key) {\n",
              "          const quickchartButtonEl =\n",
              "            document.querySelector('#' + key + ' button');\n",
              "          quickchartButtonEl.disabled = true;  // To prevent multiple clicks.\n",
              "          quickchartButtonEl.classList.add('colab-df-spinner');\n",
              "          try {\n",
              "            const charts = await google.colab.kernel.invokeFunction(\n",
              "                'suggestCharts', [key], {});\n",
              "          } catch (error) {\n",
              "            console.error('Error during call to suggestCharts:', error);\n",
              "          }\n",
              "          quickchartButtonEl.classList.remove('colab-df-spinner');\n",
              "          quickchartButtonEl.classList.add('colab-df-quickchart-complete');\n",
              "        }\n",
              "        (() => {\n",
              "          let quickchartButtonEl =\n",
              "            document.querySelector('#df-3409b73f-a1ca-4df4-a09e-4920ea26f8d7 button');\n",
              "          quickchartButtonEl.style.display =\n",
              "            google.colab.kernel.accessAllowed ? 'block' : 'none';\n",
              "        })();\n",
              "      </script>\n",
              "    </div>\n",
              "\n",
              "    </div>\n",
              "  </div>\n"
            ],
            "application/vnd.google.colaboratory.intrinsic+json": {
              "type": "dataframe",
              "summary": "{\n  \"name\": \"df\",\n  \"rows\": 8,\n  \"fields\": [\n    {\n      \"column\": \"Year\",\n      \"properties\": {\n        \"dtype\": \"number\",\n        \"std\": 752.7538732605485,\n        \"min\": 1.7002808459060388,\n        \"max\": 2024.0,\n        \"num_unique_values\": 8,\n        \"samples\": [\n          2021.456,\n          2021.0,\n          1000.0\n        ],\n        \"semantic_type\": \"\",\n        \"description\": \"\"\n      }\n    },\n    {\n      \"column\": \"Units Sold\",\n      \"properties\": {\n        \"dtype\": \"number\",\n        \"std\": 21130.06849653336,\n        \"min\": 1000.0,\n        \"max\": 64883.0,\n        \"num_unique_values\": 8,\n        \"samples\": [\n          32842.99,\n          33689.0,\n          1000.0\n        ],\n        \"semantic_type\": \"\",\n        \"description\": \"\"\n      }\n    },\n    {\n      \"column\": \"Revenue ($)\",\n      \"properties\": {\n        \"dtype\": \"number\",\n        \"std\": 26835086.674365584,\n        \"min\": 1000.0,\n        \"max\": 84264943.84,\n        \"num_unique_values\": 8,\n        \"samples\": [\n          30197331.897409,\n          28012004.950000003,\n          1000.0\n        ],\n        \"semantic_type\": \"\",\n        \"description\": \"\"\n      }\n    },\n    {\n      \"column\": \"Market Share (%)\",\n      \"properties\": {\n        \"dtype\": \"number\",\n        \"std\": 352.35558283856375,\n        \"min\": -0.49,\n        \"max\": 1000.0,\n        \"num_unique_values\": 8,\n        \"samples\": [\n          3.7235699999999996,\n          3.76,\n          1000.0\n        ],\n        \"semantic_type\": \"\",\n        \"description\": \"\"\n      }\n    },\n    {\n      \"column\": \"Regional 5G Coverage (%)\",\n      \"properties\": {\n        \"dtype\": \"number\",\n        \"std\": 333.721785858987,\n        \"min\": 19.254094678366027,\n        \"max\": 1000.0,\n        \"num_unique_values\": 8,\n        \"samples\": [\n          66.88972000000001,\n          67.05,\n          1000.0\n        ],\n        \"semantic_type\": \"\",\n        \"description\": \"\"\n      }\n    },\n    {\n      \"column\": \"5G Subscribers (millions)\",\n      \"properties\": {\n        \"dtype\": \"number\",\n        \"std\": 344.32211519791105,\n        \"min\": -0.89,\n        \"max\": 1000.0,\n        \"num_unique_values\": 8,\n        \"samples\": [\n          30.15208,\n          29.915,\n          1000.0\n        ],\n        \"semantic_type\": \"\",\n        \"description\": \"\"\n      }\n    },\n    {\n      \"column\": \"Avg 5G Speed (Mbps)\",\n      \"properties\": {\n        \"dtype\": \"number\",\n        \"std\": 307.4923626969799,\n        \"min\": 50.37,\n        \"max\": 1000.0,\n        \"num_unique_values\": 8,\n        \"samples\": [\n          179.22556,\n          177.39,\n          1000.0\n        ],\n        \"semantic_type\": \"\",\n        \"description\": \"\"\n      }\n    },\n    {\n      \"column\": \"Preference for 5G (%)\",\n      \"properties\": {\n        \"dtype\": \"number\",\n        \"std\": 333.4545796336901,\n        \"min\": 15.759250458283436,\n        \"max\": 1000.0,\n        \"num_unique_values\": 8,\n        \"samples\": [\n          67.14291,\n          66.96,\n          1000.0\n        ],\n        \"semantic_type\": \"\",\n        \"description\": \"\"\n      }\n    }\n  ]\n}"
            }
          },
          "metadata": {},
          "execution_count": 8
        }
      ]
    },
    {
      "cell_type": "markdown",
      "source": [
        "### 3.5 Check for any null values in the table"
      ],
      "metadata": {
        "id": "47Rkh4WZCxZt"
      }
    },
    {
      "cell_type": "code",
      "source": [
        "## df.isnull() returns the same table replacing the value with true or false,\n",
        "## if true, it means the field is null\n",
        "## .sum() returns the columns grouped with their sum.\n",
        "## .any() checks if there is any null in the sum result\n",
        "df.isnull().sum().any()"
      ],
      "metadata": {
        "colab": {
          "base_uri": "https://localhost:8080/"
        },
        "id": "UBQ_2rS9B2Y1",
        "outputId": "dffd0840-5a8f-4930-f3e7-7f24250b4b92"
      },
      "execution_count": 9,
      "outputs": [
        {
          "output_type": "execute_result",
          "data": {
            "text/plain": [
              "np.False_"
            ]
          },
          "metadata": {},
          "execution_count": 9
        }
      ]
    },
    {
      "cell_type": "markdown",
      "source": [],
      "metadata": {
        "id": "2isPpbOyCwKg"
      }
    },
    {
      "cell_type": "markdown",
      "source": [],
      "metadata": {
        "id": "oS6ZcvraBVUl"
      }
    },
    {
      "cell_type": "markdown",
      "source": [
        "## **4. Cardinality of Categorical Attributes**"
      ],
      "metadata": {
        "id": "FEOWNDhHGx8g"
      }
    },
    {
      "cell_type": "markdown",
      "source": [
        "### 4.0 info"
      ],
      "metadata": {
        "id": "HKyKPGO1HaTW"
      }
    },
    {
      "cell_type": "markdown",
      "source": [
        "Cardinality: It is the number of unique distinct values that a categorical column has. For example:\n",
        "\n",
        "The \"Quarter\" column has 4 possible values: \"Q1\", \"Q2\", \"Q3\", \"Q4\".\n",
        "\n",
        "The \"5G Capability\" column has only 2: \"Yes\" or \"No\"."
      ],
      "metadata": {
        "id": "NWov40bCHoie"
      }
    },
    {
      "cell_type": "markdown",
      "source": [
        "### 4.1 Attribute Category Detection"
      ],
      "metadata": {
        "id": "JepD7QL1TVA2"
      }
    },
    {
      "cell_type": "code",
      "source": [
        "##Descriptive type columns\n",
        "object_type_columns = [col for col in df.columns if df[col].dtype == \"object\"]\n",
        "object_type_columns"
      ],
      "metadata": {
        "colab": {
          "base_uri": "https://localhost:8080/"
        },
        "id": "v_QvFlZ_TUVE",
        "outputId": "258dad9c-f75d-404a-a34e-50a5f0386ad0"
      },
      "execution_count": 10,
      "outputs": [
        {
          "output_type": "execute_result",
          "data": {
            "text/plain": [
              "['Quarter', 'Product Model', '5G Capability', 'Region']"
            ]
          },
          "metadata": {},
          "execution_count": 10
        }
      ]
    },
    {
      "cell_type": "code",
      "source": [
        "# Calculates the number of different items\n",
        "cardinality = {col: df[col].nunique() for col in object_type_columns}\n",
        "cardinality\n",
        "\n",
        "# test = {col: df.groupby(col).size() for col in object_type_columns}\n",
        "# test['Product Model']"
      ],
      "metadata": {
        "colab": {
          "base_uri": "https://localhost:8080/"
        },
        "id": "HKEWGH0uHWE-",
        "outputId": "15d58e72-3ef4-49b2-fb2a-7373918e2b81"
      },
      "execution_count": 11,
      "outputs": [
        {
          "output_type": "execute_result",
          "data": {
            "text/plain": [
              "{'Quarter': 4, 'Product Model': 15, '5G Capability': 2, 'Region': 5}"
            ]
          },
          "metadata": {},
          "execution_count": 11
        }
      ]
    },
    {
      "cell_type": "code",
      "source": [
        "##More beautiful visualization\n",
        "cardinality_df = pd.DataFrame(list(cardinality.items()), columns=['Column', 'Cardinality'])\n",
        "cardinality_df"
      ],
      "metadata": {
        "colab": {
          "base_uri": "https://localhost:8080/",
          "height": 175
        },
        "id": "xu8zrCLBrdfo",
        "outputId": "9e849714-a1c9-4402-cbdc-8a0daf028c5f"
      },
      "execution_count": 12,
      "outputs": [
        {
          "output_type": "execute_result",
          "data": {
            "text/plain": [
              "          Column  Cardinality\n",
              "0        Quarter            4\n",
              "1  Product Model           15\n",
              "2  5G Capability            2\n",
              "3         Region            5"
            ],
            "text/html": [
              "\n",
              "  <div id=\"df-f6464b5f-6c2a-4151-9d2e-d07c7f3a5bfe\" class=\"colab-df-container\">\n",
              "    <div>\n",
              "<style scoped>\n",
              "    .dataframe tbody tr th:only-of-type {\n",
              "        vertical-align: middle;\n",
              "    }\n",
              "\n",
              "    .dataframe tbody tr th {\n",
              "        vertical-align: top;\n",
              "    }\n",
              "\n",
              "    .dataframe thead th {\n",
              "        text-align: right;\n",
              "    }\n",
              "</style>\n",
              "<table border=\"1\" class=\"dataframe\">\n",
              "  <thead>\n",
              "    <tr style=\"text-align: right;\">\n",
              "      <th></th>\n",
              "      <th>Column</th>\n",
              "      <th>Cardinality</th>\n",
              "    </tr>\n",
              "  </thead>\n",
              "  <tbody>\n",
              "    <tr>\n",
              "      <th>0</th>\n",
              "      <td>Quarter</td>\n",
              "      <td>4</td>\n",
              "    </tr>\n",
              "    <tr>\n",
              "      <th>1</th>\n",
              "      <td>Product Model</td>\n",
              "      <td>15</td>\n",
              "    </tr>\n",
              "    <tr>\n",
              "      <th>2</th>\n",
              "      <td>5G Capability</td>\n",
              "      <td>2</td>\n",
              "    </tr>\n",
              "    <tr>\n",
              "      <th>3</th>\n",
              "      <td>Region</td>\n",
              "      <td>5</td>\n",
              "    </tr>\n",
              "  </tbody>\n",
              "</table>\n",
              "</div>\n",
              "    <div class=\"colab-df-buttons\">\n",
              "\n",
              "  <div class=\"colab-df-container\">\n",
              "    <button class=\"colab-df-convert\" onclick=\"convertToInteractive('df-f6464b5f-6c2a-4151-9d2e-d07c7f3a5bfe')\"\n",
              "            title=\"Convert this dataframe to an interactive table.\"\n",
              "            style=\"display:none;\">\n",
              "\n",
              "  <svg xmlns=\"http://www.w3.org/2000/svg\" height=\"24px\" viewBox=\"0 -960 960 960\">\n",
              "    <path d=\"M120-120v-720h720v720H120Zm60-500h600v-160H180v160Zm220 220h160v-160H400v160Zm0 220h160v-160H400v160ZM180-400h160v-160H180v160Zm440 0h160v-160H620v160ZM180-180h160v-160H180v160Zm440 0h160v-160H620v160Z\"/>\n",
              "  </svg>\n",
              "    </button>\n",
              "\n",
              "  <style>\n",
              "    .colab-df-container {\n",
              "      display:flex;\n",
              "      gap: 12px;\n",
              "    }\n",
              "\n",
              "    .colab-df-convert {\n",
              "      background-color: #E8F0FE;\n",
              "      border: none;\n",
              "      border-radius: 50%;\n",
              "      cursor: pointer;\n",
              "      display: none;\n",
              "      fill: #1967D2;\n",
              "      height: 32px;\n",
              "      padding: 0 0 0 0;\n",
              "      width: 32px;\n",
              "    }\n",
              "\n",
              "    .colab-df-convert:hover {\n",
              "      background-color: #E2EBFA;\n",
              "      box-shadow: 0px 1px 2px rgba(60, 64, 67, 0.3), 0px 1px 3px 1px rgba(60, 64, 67, 0.15);\n",
              "      fill: #174EA6;\n",
              "    }\n",
              "\n",
              "    .colab-df-buttons div {\n",
              "      margin-bottom: 4px;\n",
              "    }\n",
              "\n",
              "    [theme=dark] .colab-df-convert {\n",
              "      background-color: #3B4455;\n",
              "      fill: #D2E3FC;\n",
              "    }\n",
              "\n",
              "    [theme=dark] .colab-df-convert:hover {\n",
              "      background-color: #434B5C;\n",
              "      box-shadow: 0px 1px 3px 1px rgba(0, 0, 0, 0.15);\n",
              "      filter: drop-shadow(0px 1px 2px rgba(0, 0, 0, 0.3));\n",
              "      fill: #FFFFFF;\n",
              "    }\n",
              "  </style>\n",
              "\n",
              "    <script>\n",
              "      const buttonEl =\n",
              "        document.querySelector('#df-f6464b5f-6c2a-4151-9d2e-d07c7f3a5bfe button.colab-df-convert');\n",
              "      buttonEl.style.display =\n",
              "        google.colab.kernel.accessAllowed ? 'block' : 'none';\n",
              "\n",
              "      async function convertToInteractive(key) {\n",
              "        const element = document.querySelector('#df-f6464b5f-6c2a-4151-9d2e-d07c7f3a5bfe');\n",
              "        const dataTable =\n",
              "          await google.colab.kernel.invokeFunction('convertToInteractive',\n",
              "                                                    [key], {});\n",
              "        if (!dataTable) return;\n",
              "\n",
              "        const docLinkHtml = 'Like what you see? Visit the ' +\n",
              "          '<a target=\"_blank\" href=https://colab.research.google.com/notebooks/data_table.ipynb>data table notebook</a>'\n",
              "          + ' to learn more about interactive tables.';\n",
              "        element.innerHTML = '';\n",
              "        dataTable['output_type'] = 'display_data';\n",
              "        await google.colab.output.renderOutput(dataTable, element);\n",
              "        const docLink = document.createElement('div');\n",
              "        docLink.innerHTML = docLinkHtml;\n",
              "        element.appendChild(docLink);\n",
              "      }\n",
              "    </script>\n",
              "  </div>\n",
              "\n",
              "\n",
              "    <div id=\"df-47bec32b-ac38-45c7-a52e-904f42e8af2c\">\n",
              "      <button class=\"colab-df-quickchart\" onclick=\"quickchart('df-47bec32b-ac38-45c7-a52e-904f42e8af2c')\"\n",
              "                title=\"Suggest charts\"\n",
              "                style=\"display:none;\">\n",
              "\n",
              "<svg xmlns=\"http://www.w3.org/2000/svg\" height=\"24px\"viewBox=\"0 0 24 24\"\n",
              "     width=\"24px\">\n",
              "    <g>\n",
              "        <path d=\"M19 3H5c-1.1 0-2 .9-2 2v14c0 1.1.9 2 2 2h14c1.1 0 2-.9 2-2V5c0-1.1-.9-2-2-2zM9 17H7v-7h2v7zm4 0h-2V7h2v10zm4 0h-2v-4h2v4z\"/>\n",
              "    </g>\n",
              "</svg>\n",
              "      </button>\n",
              "\n",
              "<style>\n",
              "  .colab-df-quickchart {\n",
              "      --bg-color: #E8F0FE;\n",
              "      --fill-color: #1967D2;\n",
              "      --hover-bg-color: #E2EBFA;\n",
              "      --hover-fill-color: #174EA6;\n",
              "      --disabled-fill-color: #AAA;\n",
              "      --disabled-bg-color: #DDD;\n",
              "  }\n",
              "\n",
              "  [theme=dark] .colab-df-quickchart {\n",
              "      --bg-color: #3B4455;\n",
              "      --fill-color: #D2E3FC;\n",
              "      --hover-bg-color: #434B5C;\n",
              "      --hover-fill-color: #FFFFFF;\n",
              "      --disabled-bg-color: #3B4455;\n",
              "      --disabled-fill-color: #666;\n",
              "  }\n",
              "\n",
              "  .colab-df-quickchart {\n",
              "    background-color: var(--bg-color);\n",
              "    border: none;\n",
              "    border-radius: 50%;\n",
              "    cursor: pointer;\n",
              "    display: none;\n",
              "    fill: var(--fill-color);\n",
              "    height: 32px;\n",
              "    padding: 0;\n",
              "    width: 32px;\n",
              "  }\n",
              "\n",
              "  .colab-df-quickchart:hover {\n",
              "    background-color: var(--hover-bg-color);\n",
              "    box-shadow: 0 1px 2px rgba(60, 64, 67, 0.3), 0 1px 3px 1px rgba(60, 64, 67, 0.15);\n",
              "    fill: var(--button-hover-fill-color);\n",
              "  }\n",
              "\n",
              "  .colab-df-quickchart-complete:disabled,\n",
              "  .colab-df-quickchart-complete:disabled:hover {\n",
              "    background-color: var(--disabled-bg-color);\n",
              "    fill: var(--disabled-fill-color);\n",
              "    box-shadow: none;\n",
              "  }\n",
              "\n",
              "  .colab-df-spinner {\n",
              "    border: 2px solid var(--fill-color);\n",
              "    border-color: transparent;\n",
              "    border-bottom-color: var(--fill-color);\n",
              "    animation:\n",
              "      spin 1s steps(1) infinite;\n",
              "  }\n",
              "\n",
              "  @keyframes spin {\n",
              "    0% {\n",
              "      border-color: transparent;\n",
              "      border-bottom-color: var(--fill-color);\n",
              "      border-left-color: var(--fill-color);\n",
              "    }\n",
              "    20% {\n",
              "      border-color: transparent;\n",
              "      border-left-color: var(--fill-color);\n",
              "      border-top-color: var(--fill-color);\n",
              "    }\n",
              "    30% {\n",
              "      border-color: transparent;\n",
              "      border-left-color: var(--fill-color);\n",
              "      border-top-color: var(--fill-color);\n",
              "      border-right-color: var(--fill-color);\n",
              "    }\n",
              "    40% {\n",
              "      border-color: transparent;\n",
              "      border-right-color: var(--fill-color);\n",
              "      border-top-color: var(--fill-color);\n",
              "    }\n",
              "    60% {\n",
              "      border-color: transparent;\n",
              "      border-right-color: var(--fill-color);\n",
              "    }\n",
              "    80% {\n",
              "      border-color: transparent;\n",
              "      border-right-color: var(--fill-color);\n",
              "      border-bottom-color: var(--fill-color);\n",
              "    }\n",
              "    90% {\n",
              "      border-color: transparent;\n",
              "      border-bottom-color: var(--fill-color);\n",
              "    }\n",
              "  }\n",
              "</style>\n",
              "\n",
              "      <script>\n",
              "        async function quickchart(key) {\n",
              "          const quickchartButtonEl =\n",
              "            document.querySelector('#' + key + ' button');\n",
              "          quickchartButtonEl.disabled = true;  // To prevent multiple clicks.\n",
              "          quickchartButtonEl.classList.add('colab-df-spinner');\n",
              "          try {\n",
              "            const charts = await google.colab.kernel.invokeFunction(\n",
              "                'suggestCharts', [key], {});\n",
              "          } catch (error) {\n",
              "            console.error('Error during call to suggestCharts:', error);\n",
              "          }\n",
              "          quickchartButtonEl.classList.remove('colab-df-spinner');\n",
              "          quickchartButtonEl.classList.add('colab-df-quickchart-complete');\n",
              "        }\n",
              "        (() => {\n",
              "          let quickchartButtonEl =\n",
              "            document.querySelector('#df-47bec32b-ac38-45c7-a52e-904f42e8af2c button');\n",
              "          quickchartButtonEl.style.display =\n",
              "            google.colab.kernel.accessAllowed ? 'block' : 'none';\n",
              "        })();\n",
              "      </script>\n",
              "    </div>\n",
              "\n",
              "  <div id=\"id_8c27dca8-c51c-4af6-958b-a51a545e36c4\">\n",
              "    <style>\n",
              "      .colab-df-generate {\n",
              "        background-color: #E8F0FE;\n",
              "        border: none;\n",
              "        border-radius: 50%;\n",
              "        cursor: pointer;\n",
              "        display: none;\n",
              "        fill: #1967D2;\n",
              "        height: 32px;\n",
              "        padding: 0 0 0 0;\n",
              "        width: 32px;\n",
              "      }\n",
              "\n",
              "      .colab-df-generate:hover {\n",
              "        background-color: #E2EBFA;\n",
              "        box-shadow: 0px 1px 2px rgba(60, 64, 67, 0.3), 0px 1px 3px 1px rgba(60, 64, 67, 0.15);\n",
              "        fill: #174EA6;\n",
              "      }\n",
              "\n",
              "      [theme=dark] .colab-df-generate {\n",
              "        background-color: #3B4455;\n",
              "        fill: #D2E3FC;\n",
              "      }\n",
              "\n",
              "      [theme=dark] .colab-df-generate:hover {\n",
              "        background-color: #434B5C;\n",
              "        box-shadow: 0px 1px 3px 1px rgba(0, 0, 0, 0.15);\n",
              "        filter: drop-shadow(0px 1px 2px rgba(0, 0, 0, 0.3));\n",
              "        fill: #FFFFFF;\n",
              "      }\n",
              "    </style>\n",
              "    <button class=\"colab-df-generate\" onclick=\"generateWithVariable('cardinality_df')\"\n",
              "            title=\"Generate code using this dataframe.\"\n",
              "            style=\"display:none;\">\n",
              "\n",
              "  <svg xmlns=\"http://www.w3.org/2000/svg\" height=\"24px\"viewBox=\"0 0 24 24\"\n",
              "       width=\"24px\">\n",
              "    <path d=\"M7,19H8.4L18.45,9,17,7.55,7,17.6ZM5,21V16.75L18.45,3.32a2,2,0,0,1,2.83,0l1.4,1.43a1.91,1.91,0,0,1,.58,1.4,1.91,1.91,0,0,1-.58,1.4L9.25,21ZM18.45,9,17,7.55Zm-12,3A5.31,5.31,0,0,0,4.9,8.1,5.31,5.31,0,0,0,1,6.5,5.31,5.31,0,0,0,4.9,4.9,5.31,5.31,0,0,0,6.5,1,5.31,5.31,0,0,0,8.1,4.9,5.31,5.31,0,0,0,12,6.5,5.46,5.46,0,0,0,6.5,12Z\"/>\n",
              "  </svg>\n",
              "    </button>\n",
              "    <script>\n",
              "      (() => {\n",
              "      const buttonEl =\n",
              "        document.querySelector('#id_8c27dca8-c51c-4af6-958b-a51a545e36c4 button.colab-df-generate');\n",
              "      buttonEl.style.display =\n",
              "        google.colab.kernel.accessAllowed ? 'block' : 'none';\n",
              "\n",
              "      buttonEl.onclick = () => {\n",
              "        google.colab.notebook.generateWithVariable('cardinality_df');\n",
              "      }\n",
              "      })();\n",
              "    </script>\n",
              "  </div>\n",
              "\n",
              "    </div>\n",
              "  </div>\n"
            ],
            "application/vnd.google.colaboratory.intrinsic+json": {
              "type": "dataframe",
              "variable_name": "cardinality_df",
              "summary": "{\n  \"name\": \"cardinality_df\",\n  \"rows\": 4,\n  \"fields\": [\n    {\n      \"column\": \"Column\",\n      \"properties\": {\n        \"dtype\": \"string\",\n        \"num_unique_values\": 4,\n        \"samples\": [\n          \"Product Model\",\n          \"Region\",\n          \"Quarter\"\n        ],\n        \"semantic_type\": \"\",\n        \"description\": \"\"\n      }\n    },\n    {\n      \"column\": \"Cardinality\",\n      \"properties\": {\n        \"dtype\": \"number\",\n        \"std\": 5,\n        \"min\": 2,\n        \"max\": 15,\n        \"num_unique_values\": 4,\n        \"samples\": [\n          15,\n          5,\n          4\n        ],\n        \"semantic_type\": \"\",\n        \"description\": \"\"\n      }\n    }\n  ]\n}"
            }
          },
          "metadata": {},
          "execution_count": 12
        }
      ]
    },
    {
      "cell_type": "markdown",
      "source": [],
      "metadata": {
        "id": "OAm8kLhws33u"
      }
    },
    {
      "cell_type": "code",
      "source": [
        "#Visualization of cardinality using seaborn\n",
        "plt.figure(figsize=(10, 6))\n",
        "sns.barplot(x=cardinality_df['Column'], y=cardinality_df['Cardinality'])"
      ],
      "metadata": {
        "colab": {
          "base_uri": "https://localhost:8080/",
          "height": 559
        },
        "id": "4imq4lIgshr_",
        "outputId": "e4a1c48b-baf9-4e62-dcf3-c7a86ea5854b"
      },
      "execution_count": 13,
      "outputs": [
        {
          "output_type": "execute_result",
          "data": {
            "text/plain": [
              "<Axes: xlabel='Column', ylabel='Cardinality'>"
            ]
          },
          "metadata": {},
          "execution_count": 13
        },
        {
          "output_type": "display_data",
          "data": {
            "text/plain": [
              "<Figure size 1000x600 with 1 Axes>"
            ],
            "image/png": "[encoded data removed]"
          },
          "metadata": {}
        }
      ]
    },
    {
      "cell_type": "markdown",
      "source": [
        "## **5 Frequency of attributes**"
      ],
      "metadata": {
        "id": "5JVIYDYstcFn"
      }
    },
    {
      "cell_type": "code",
      "source": [
        "# Countplot visualization for categorical variables\n",
        "LOW_CARDINALITY_LIMIT = 10\n",
        "high_cardinality_column = next((col for col in object_type_columns if df[col].nunique() > LOW_CARDINALITY_LIMIT), None)\n",
        "low_cardinality_columns = [col for col in object_type_columns if col != high_cardinality_column]\n",
        "\n",
        "# Create subplots for low cardinality categorical features\n",
        "fig, axes = plt.subplots(2, 2, figsize=(12, 10))\n",
        "fig.suptitle(\"Countplot of Categorical Features\", fontsize=16)\n",
        "axes = axes.flatten()\n",
        "\n",
        "for i, col in enumerate(low_cardinality_columns):\n",
        "    sns.countplot(x=df[col], ax=axes[i])\n",
        "    axes[i].set_title(f\"Countplot of {col}\", fontsize=12)\n",
        "    axes[i].set_xlabel(\"\")\n",
        "    axes[i].set_ylabel(\"Count\")\n",
        "    axes[i].tick_params(axis='x', rotation=45)\n",
        "\n",
        "# Hide the subplots that were not filled\n",
        "for j in range(len(low_cardinality_columns), len(axes)):\n",
        "    axes[j].set_visible(False)\n",
        "\n",
        "plt.tight_layout(rect=[0, 0, 1, 0.96])\n",
        "plt.show()\n",
        "\n",
        "if high_cardinality_column:\n",
        "  plt.figure(figsize=(10, 5))\n",
        "  sns.countplot(x=df[high_cardinality_column])\n",
        "  plt.title(f\"Countplot of {high_cardinality_column}\", fontsize=14)\n",
        "  plt.xlabel(high_cardinality_column)\n",
        "  plt.ylabel(\"Count\")\n",
        "  plt.xticks(rotation=45)\n",
        "  plt.show()"
      ],
      "metadata": {
        "colab": {
          "base_uri": "https://localhost:8080/",
          "height": 1000
        },
        "id": "aZww-GsGtrFO",
        "outputId": "fc60e754-d643-43d7-9adb-06c9ae71a577"
      },
      "execution_count": 14,
      "outputs": [
        {
          "output_type": "display_data",
          "data": {
            "text/plain": [
              "<Figure size 1200x1000 with 4 Axes>"
            ],
            "image/png": "[encoded data removed]"
          },
          "metadata": {}
        },
        {
          "output_type": "display_data",
          "data": {
            "text/plain": [
              "<Figure size 1000x500 with 1 Axes>"
            ],
            "image/png": "[encoded data removed]"
          },
          "metadata": {}
        }
      ]
    },
    {
      "cell_type": "markdown",
      "source": [
        "## **6. Distribution of Units Sold**"
      ],
      "metadata": {
        "id": "oCsQiimKPTkn"
      }
    },
    {
      "cell_type": "code",
      "source": [
        "plt.figure(figsize=(6,4))\n",
        "sns.histplot(df[\"Units Sold\"], bins=30, kde=True)\n",
        "plt.title(\"Distribution of Units Sold\")\n",
        "plt.xlabel(\"Units Sold\")\n",
        "plt.ylabel(\"Frequência\")\n",
        "plt.show()"
      ],
      "metadata": {
        "colab": {
          "base_uri": "https://localhost:8080/",
          "height": 410
        },
        "id": "b0mgsu8yP-FU",
        "outputId": "c0178b80-785f-4167-bec3-0b3290048237"
      },
      "execution_count": 17,
      "outputs": [
        {
          "output_type": "display_data",
          "data": {
            "text/plain": [
              "<Figure size 600x400 with 1 Axes>"
            ],
            "image/png": "[encoded data removed]"
          },
          "metadata": {}
        }
      ]
    },
    {
      "cell_type": "markdown",
      "source": [
        "## **7. Feature Selection and Engineering**"
      ],
      "metadata": {
        "id": "pNivHrOBYDjI"
      }
    },
    {
      "cell_type": "markdown",
      "source": [
        "###7.1 Count Encoding on “Product Model”"
      ],
      "metadata": {
        "id": "N4KGKaraYLAb"
      }
    },
    {
      "cell_type": "code",
      "source": [
        "df['Product_Model_Count'] = df['Product Model'].map(df['Product Model'].value_counts())"
      ],
      "metadata": {
        "id": "xYk1oGN2YIw1"
      },
      "execution_count": 21,
      "outputs": []
    },
    {
      "cell_type": "markdown",
      "source": [
        "###7.2 One-Hot Encoding on Low-Cardinality Columns"
      ],
      "metadata": {
        "id": "4dITzw8Sg_6e"
      }
    },
    {
      "cell_type": "code",
      "source": [
        "df_ohe = pd.get_dummies(\n",
        "    df,\n",
        "    columns=low_cardinality_columns,\n",
        "    drop_first=True\n",
        ")\n",
        "df_ohe.info()"
      ],
      "metadata": {
        "colab": {
          "base_uri": "https://localhost:8080/"
        },
        "id": "uEHdWmHThKcQ",
        "outputId": "0922360a-c21d-4416-d341-e198cbbf0ffd"
      },
      "execution_count": 63,
      "outputs": [
        {
          "output_type": "stream",
          "name": "stdout",
          "text": [
            "<class 'pandas.core.frame.DataFrame'>\n",
            "RangeIndex: 1000 entries, 0 to 999\n",
            "Data columns (total 18 columns):\n",
            " #   Column                       Non-Null Count  Dtype  \n",
            "---  ------                       --------------  -----  \n",
            " 0   Year                         1000 non-null   int64  \n",
            " 1   Product Model                1000 non-null   object \n",
            " 2   Units Sold                   1000 non-null   int64  \n",
            " 3   Revenue ($)                  1000 non-null   float64\n",
            " 4   Market Share (%)             1000 non-null   float64\n",
            " 5   Regional 5G Coverage (%)     1000 non-null   float64\n",
            " 6   5G Subscribers (millions)    1000 non-null   float64\n",
            " 7   Avg 5G Speed (Mbps)          1000 non-null   float64\n",
            " 8   Preference for 5G (%)        1000 non-null   float64\n",
            " 9   Product_Model_Count          1000 non-null   int64  \n",
            " 10  Quarter_Q2                   1000 non-null   bool   \n",
            " 11  Quarter_Q3                   1000 non-null   bool   \n",
            " 12  Quarter_Q4                   1000 non-null   bool   \n",
            " 13  5G Capability_Yes            1000 non-null   bool   \n",
            " 14  Region_Europe                1000 non-null   bool   \n",
            " 15  Region_Latin America         1000 non-null   bool   \n",
            " 16  Region_Middle East & Africa  1000 non-null   bool   \n",
            " 17  Region_North America         1000 non-null   bool   \n",
            "dtypes: bool(8), float64(6), int64(3), object(1)\n",
            "memory usage: 86.1+ KB\n"
          ]
        }
      ]
    },
    {
      "cell_type": "markdown",
      "source": [
        "### 7.3 Define Final Feature DataFrame"
      ],
      "metadata": {
        "id": "xSs33Rj_kuFC"
      }
    },
    {
      "cell_type": "code",
      "source": [
        "# Remove the column \"Product Model\" because the count of \"Product Model\" was already added.\n",
        "if 'Product Model' in df_ohe.columns:\n",
        "    df_ohe = df_ohe.drop(columns=['Product Model'])\n",
        "y = df_ohe['Units Sold']\n",
        "X = df_ohe.drop(columns=['Units Sold'])"
      ],
      "metadata": {
        "id": "NA1-1L3Nk0l7"
      },
      "execution_count": 64,
      "outputs": []
    },
    {
      "cell_type": "markdown",
      "source": [
        "## **8. Train-Test Split**"
      ],
      "metadata": {
        "id": "bJ7lJ9ZPmw6l"
      }
    },
    {
      "cell_type": "code",
      "source": [
        "# Randomly split 70% for training and 30% for testing\n",
        "X_train, X_test, y_train, y_test = train_test_split(\n",
        "    X, y, test_size=0.3, random_state=42\n",
        ")"
      ],
      "metadata": {
        "id": "WAOOPDZznYdO"
      },
      "execution_count": 65,
      "outputs": []
    },
    {
      "cell_type": "markdown",
      "source": [
        "##**9. Building a scikit-learn Pipeline**"
      ],
      "metadata": {
        "id": "rl1zt2p_q3qK"
      }
    },
    {
      "cell_type": "markdown",
      "source": [
        "###9.1 Definition of Column Groups"
      ],
      "metadata": {
        "id": "iZvJTLNsrLaJ"
      }
    },
    {
      "cell_type": "code",
      "source": [
        "num_cols = df.select_dtypes(include=['int64', 'float64']).columns.tolist()\n",
        "num_cols.remove('Units Sold')\n",
        "categorical_cols = low_cardinality_columns"
      ],
      "metadata": {
        "colab": {
          "base_uri": "https://localhost:8080/"
        },
        "id": "-b5C2QtenZSD",
        "outputId": "a615c8c7-3f40-4f95-ce5d-b7090ca9a26d"
      },
      "execution_count": 68,
      "outputs": [
        {
          "output_type": "execute_result",
          "data": {
            "text/plain": [
              "['Quarter', '5G Capability', 'Region']"
            ]
          },
          "metadata": {},
          "execution_count": 68
        }
      ]
    },
    {
      "cell_type": "markdown",
      "source": [
        "###9.2 Build the ColumnTransformer"
      ],
      "metadata": {
        "id": "P855u-M2s-5F"
      }
    },
    {
      "cell_type": "code",
      "source": [
        "preprocessor = ColumnTransformer(transformers=[\n",
        "    # 5.2.2. Standardization (StandardScaler) for all numerical columns\n",
        "    ('scaler', StandardScaler(), num_cols)\n",
        "], remainder='drop')  # ‘drop’ discards columns not in categorical_cols or num_cols"
      ],
      "metadata": {
        "id": "koVpCahBtD1R"
      },
      "execution_count": 69,
      "outputs": []
    },
    {
      "cell_type": "markdown",
      "source": [
        "###9.3 Build Complete Pipeline"
      ],
      "metadata": {
        "id": "sIC5FcUJutzP"
      }
    },
    {
      "cell_type": "code",
      "source": [
        "model_pipeline = Pipeline(steps=[\n",
        "    ('preproc', preprocessor),\n",
        "    ('model', RandomForestRegressor(n_estimators=100, random_state=42))\n",
        "])"
      ],
      "metadata": {
        "id": "8X_Xkh4dvLSy"
      },
      "execution_count": 74,
      "outputs": []
    },
    {
      "cell_type": "markdown",
      "source": [
        "## **10. Training the Baseline Model**"
      ],
      "metadata": {
        "id": "ESavxo_d0Xaw"
      }
    },
    {
      "cell_type": "code",
      "source": [
        "# 6.1. Fit the pipeline to the training data\n",
        "model_pipeline.fit(X_train, y_train)\n",
        "\n",
        "# 6.2. Make predictions on the test set\n",
        "y_pred = model_pipeline.predict(X_test)"
      ],
      "metadata": {
        "id": "oHz7nU250gH2"
      },
      "execution_count": 75,
      "outputs": []
    },
    {
      "cell_type": "markdown",
      "source": [
        "## **11. Evaluation of Metrics**"
      ],
      "metadata": {
        "id": "3E5ocNqs0y4w"
      }
    },
    {
      "cell_type": "code",
      "source": [
        "# 7.1. R²\n",
        "r2 = r2_score(y_test, y_pred)\n",
        "\n",
        "# 7.2. RMSE (Root Mean Squared Error)\n",
        "rmse = np.sqrt(mean_squared_error(y_test, y_pred))\n",
        "\n",
        "# 7.3. MAE (Mean Absolute Error)\n",
        "mae = mean_absolute_error(y_test, y_pred)\n",
        "\n",
        "print(f\"R² no teste: {r2:.4f}\")\n",
        "print(f\"RMSE no teste: {rmse:.2f}\")\n",
        "print(f\"MAE no teste: {mae:.2f}\")"
      ],
      "metadata": {
        "colab": {
          "base_uri": "https://localhost:8080/"
        },
        "id": "53glNncC05CU",
        "outputId": "81de790d-fe55-4284-b7bc-2b0f7531af12"
      },
      "execution_count": 76,
      "outputs": [
        {
          "output_type": "stream",
          "name": "stdout",
          "text": [
            "R² no teste: 0.7356\n",
            "RMSE no teste: 8297.48\n",
            "MAE no teste: 5195.27\n"
          ]
        }
      ]
    },
    {
      "cell_type": "markdown",
      "source": [
        "###11.1 Plot Predicted vs Actual"
      ],
      "metadata": {
        "id": "6NCZRBHI42MG"
      }
    },
    {
      "cell_type": "code",
      "source": [
        "plt.figure(figsize=(6,6))\n",
        "plt.scatter(y_test, y_pred, alpha=0.6, edgecolor='k')\n",
        "plt.plot([y_test.min(), y_test.max()], [y_test.min(), y_test.max()], 'r--', linewidth=1)\n",
        "plt.xlabel(\"Units Sold (Real)\")\n",
        "plt.ylabel(\"Units Sold (Previsto)\")\n",
        "plt.title(\"Previsão vs Real – Units Sold\")\n",
        "plt.tight_layout()\n",
        "plt.show()"
      ],
      "metadata": {
        "colab": {
          "base_uri": "https://localhost:8080/",
          "height": 607
        },
        "id": "Z5QCbqzz5EMy",
        "outputId": "03a8774f-8275-4f0b-ef6b-b72b9f085406"
      },
      "execution_count": 81,
      "outputs": [
        {
          "output_type": "display_data",
          "data": {
            "text/plain": [
              "<Figure size 600x600 with 1 Axes>"
            ],
            "image/png": "[encoded data removed]"
          },
          "metadata": {}
        }
      ]
    },
    {
      "cell_type": "markdown",
      "source": [
        "###11.2 Tree Visualization"
      ],
      "metadata": {
        "id": "IVX5vOfj6ttU"
      }
    },
    {
      "cell_type": "code",
      "source": [
        "# rf_model = model_pipeline.named_steps['model']\n",
        "\n",
        "\n",
        "# for i in range(3):\n",
        "#   tree = rf_model.estimators_[i]\n",
        "#   # Plot tree\n",
        "#   plt.figure(figsize=(20, 10))\n",
        "#   plot_tree(tree,\n",
        "#             feature_names=model_pipeline.named_steps['preproc'].get_feature_names_out(),\n",
        "#             filled=True,\n",
        "#             rounded=True,\n",
        "#             max_depth=3)\n",
        "#   plt.title(\"Visualização de uma árvore da Random Forest\")\n",
        "#   plt.show()"
      ],
      "metadata": {
        "id": "JGs6YpY-6yLV"
      },
      "execution_count": 85,
      "outputs": []
    },
    {
      "cell_type": "markdown",
      "source": [
        "##**12. Search Hyperparameters**"
      ],
      "metadata": {
        "id": "_Jh47N-m71xk"
      }
    },
    {
      "cell_type": "code",
      "source": [
        "from sklearn.model_selection import GridSearchCV\n",
        "\n",
        "# 8.1. Define parameter grid for RandomForest\n",
        "param_grid = {\n",
        "    'model__n_estimators': [50, 100, 200],\n",
        "    'model__max_depth': [None, 10, 20],\n",
        "    'model__min_samples_split': [2, 5, 10]\n",
        "}\n",
        "\n",
        "# 8.2. GridSearch with 5-fold CV, using the pipeline\n",
        "grid_search = GridSearchCV(\n",
        "    estimator=model_pipeline,\n",
        "    param_grid=param_grid,\n",
        "    scoring='neg_root_mean_squared_error',  # minimize RMSE\n",
        "    cv=5,\n",
        "    n_jobs=-1\n",
        ")\n",
        "\n",
        "# 8.3. Fit on the training data\n",
        "grid_search.fit(X_train, y_train)\n",
        "\n",
        "# 8.4. Display the best parameters\n",
        "print(\"Best parameters found:\")\n",
        "print(grid_search.best_params_)\n",
        "\n",
        "# 8.5. Evaluate the best_estimator_ on the test set\n",
        "best_model = grid_search.best_estimator_\n",
        "y_pred_best = best_model.predict(X_test)\n",
        "\n",
        "r2_best  = r2_score(y_test, y_pred_best)\n",
        "rmse_best = np.sqrt(mean_squared_error(y_test, y_pred_best))\n",
        "mae_best = mean_absolute_error(y_test, y_pred_best)\n",
        "\n",
        "print(\"==> After GridSearch\")\n",
        "print(f\"R² on test set: {r2_best:.4f}\")\n",
        "print(f\"RMSE on test set: {rmse_best:.2f}\")\n",
        "print(f\"MAE on test set: {mae_best:.2f}\")"
      ],
      "metadata": {
        "colab": {
          "base_uri": "https://localhost:8080/"
        },
        "id": "LUDXK4d68EJ0",
        "outputId": "0550886f-ff03-45f9-b6ab-4ff11be75bd7"
      },
      "execution_count": 99,
      "outputs": [
        {
          "output_type": "stream",
          "name": "stdout",
          "text": [
            "Best parameters found:\n",
            "{'model__max_depth': None, 'model__min_samples_split': 2, 'model__n_estimators': 200}\n",
            "==> After GridSearch\n",
            "R² on test set: 0.7291\n",
            "RMSE on test set: 8398.72\n",
            "MAE on test set: 5250.21\n"
          ]
        }
      ]
    },
    {
      "cell_type": "markdown",
      "source": [
        "##**13. Interpretation**"
      ],
      "metadata": {
        "id": "91yL59b89Nry"
      }
    },
    {
      "cell_type": "code",
      "source": [
        "import pandas as pd\n",
        "import matplotlib.pyplot as plt\n",
        "import seaborn as sns\n",
        "import numpy as np\n",
        "\n",
        "# 9.1. Get feature importances from the best trained RandomForest model\n",
        "importances = best_model.named_steps['model'].feature_importances_\n",
        "\n",
        "# 9.2. Retrieve the transformed column names from the pipeline\n",
        "preproc = best_model.named_steps['preproc']\n",
        "\n",
        "try:\n",
        "    # Try to get the output feature names (works for sklearn >= 1.0)\n",
        "    all_feature_names = preproc.get_feature_names_out()\n",
        "except AttributeError:\n",
        "    # If get_feature_names_out isn't available, fall back to original column names\n",
        "    # This usually happens when no OneHotEncoder is used in the pipeline\n",
        "    all_feature_names = X_train.columns.tolist()\n",
        "\n",
        "# 9.3. Create a Series to sort the importances\n",
        "feat_imp_series = pd.Series(importances, index=all_feature_names).sort_values(ascending=False)\n",
        "\n",
        "# 9.4. Display the top 10 most important features\n",
        "top10 = feat_imp_series.head(10)\n",
        "print(\"Top 10 features by importance:\")\n",
        "print(top10)\n",
        "\n",
        "# 9.5. Plot the top 10 as a bar chart\n",
        "plt.figure(figsize=(8, 5))\n",
        "sns.barplot(x=top10.values, y=top10.index, palette='viridis')\n",
        "plt.title(\"Top 10 Features in RandomForestRegressor\")\n",
        "plt.xlabel(\"Importance\")\n",
        "plt.ylabel(\"Feature\")\n",
        "plt.tight_layout()\n",
        "plt.show()\n"
      ],
      "metadata": {
        "colab": {
          "base_uri": "https://localhost:8080/",
          "height": 624
        },
        "id": "oWswyULu9Rgl",
        "outputId": "7a483608-5676-4845-84ff-1b4e5198dc2a"
      },
      "execution_count": 98,
      "outputs": [
        {
          "output_type": "stream",
          "name": "stdout",
          "text": [
            "Top 10 features by importance:\n",
            "scaler__Revenue ($)                  0.200706\n",
            "scaler__Avg 5G Speed (Mbps)          0.152817\n",
            "scaler__Preference for 5G (%)        0.141004\n",
            "scaler__Regional 5G Coverage (%)     0.140912\n",
            "scaler__5G Subscribers (millions)    0.127568\n",
            "scaler__Market Share (%)             0.119789\n",
            "scaler__Product_Model_Count          0.064296\n",
            "scaler__Year                         0.052908\n",
            "dtype: float64\n"
          ]
        },
        {
          "output_type": "display_data",
          "data": {
            "text/plain": [
              "<Figure size 800x500 with 1 Axes>"
            ],
            "image/png": "[encoded data removed]"
          },
          "metadata": {}
        }
      ]
    }
  ]
}